{
 "cells": [
  {
   "cell_type": "code",
   "execution_count": 1,
   "id": "0a5497ff",
   "metadata": {},
   "outputs": [
    {
     "name": "stderr",
     "output_type": "stream",
     "text": [
      "WARNING: Using incubator modules: jdk.incubator.vector\n",
      "Warning: Ignoring non-Spark config property: javax.jdo.option.ConnectionURL\n",
      "Using Spark's default log4j profile: org/apache/spark/log4j2-defaults.properties\n",
      "25/08/05 10:50:24 WARN Utils: Your hostname, LAPTOP-CO0U45G1, resolves to a loopback address: 127.0.1.1; using 172.20.235.103 instead (on interface eth0)\n",
      "25/08/05 10:50:24 WARN Utils: Set SPARK_LOCAL_IP if you need to bind to another address\n",
      "Using Spark's default log4j profile: org/apache/spark/log4j2-defaults.properties\n",
      "Setting default log level to \"WARN\".\n",
      "To adjust logging level use sc.setLogLevel(newLevel). For SparkR, use setLogLevel(newLevel).\n",
      "25/08/05 10:50:29 WARN NativeCodeLoader: Unable to load native-hadoop library for your platform... using builtin-java classes where applicable\n",
      "25/08/05 10:50:39 WARN Utils: Service 'SparkUI' could not bind on port 4040. Attempting port 4041.\n",
      "25/08/05 10:50:39 WARN Utils: Service 'SparkUI' could not bind on port 4041. Attempting port 4042.\n"
     ]
    }
   ],
   "source": [
    "import sys\n",
    "sys.path.append('/home/robson/curso_spark_pyspark_udemy/utils')\n",
    "\n",
    "from spark_session import get_spark_session\n",
    "\n",
    "spark = get_spark_session(\"Particionamento\")"
   ]
  },
  {
   "cell_type": "code",
   "execution_count": 2,
   "id": "2308d505",
   "metadata": {},
   "outputs": [
    {
     "name": "stderr",
     "output_type": "stream",
     "text": [
      "25/08/05 10:51:05 WARN ObjectStore: Version information not found in metastore. hive.metastore.schema.verification is not enabled so recording the schema version 2.3.0\n",
      "25/08/05 10:51:05 WARN ObjectStore: setMetaStoreSchemaVersion called but recording version is disabled: version = 2.3.0, comment = Set by MetaStore robson@127.0.1.1\n"
     ]
    },
    {
     "name": "stdout",
     "output_type": "stream",
     "text": [
      "+---------+\n",
      "|namespace|\n",
      "+---------+\n",
      "|  default|\n",
      "|     desp|\n",
      "+---------+\n",
      "\n"
     ]
    }
   ],
   "source": [
    "spark.sql(\"show databases\").show()"
   ]
  },
  {
   "cell_type": "code",
   "execution_count": 3,
   "id": "1d59d45e",
   "metadata": {},
   "outputs": [
    {
     "name": "stdout",
     "output_type": "stream",
     "text": [
      "++\n",
      "||\n",
      "++\n",
      "++\n",
      "\n"
     ]
    }
   ],
   "source": [
    "spark.sql('use desp').show()"
   ]
  },
  {
   "cell_type": "code",
   "execution_count": 6,
   "id": "455f614b",
   "metadata": {},
   "outputs": [
    {
     "name": "stderr",
     "output_type": "stream",
     "text": [
      "                                                                                \r"
     ]
    },
    {
     "name": "stdout",
     "output_type": "stream",
     "text": [
      "+-----------+---------+------+---+------+--------+-------------+---------+--------------+---------------+------+\n",
      "|CreditScore|Geography|Gender|Age|Tenure| Balance|NumOfProducts|HasCrCard|IsActiveMember|EstimatedSalary|Exited|\n",
      "+-----------+---------+------+---+------+--------+-------------+---------+--------------+---------------+------+\n",
      "|        619|   France|Female| 42|     2|       0|            1|        1|             1|       10134888|     1|\n",
      "|        608|    Spain|Female| 41|     1| 8380786|            1|        0|             1|       11254258|     0|\n",
      "|        502|   France|Female| 42|     8| 1596608|            3|        1|             0|       11393157|     1|\n",
      "|        699|   France|Female| 39|     1|       0|            2|        0|             0|        9382663|     0|\n",
      "|        850|    Spain|Female| 43|     2|12551082|            1|        1|             1|         790841|     0|\n",
      "|        645|    Spain|  Male| 44|     8|11375578|            2|        1|             0|       14975671|     1|\n",
      "|        822|   France|  Male| 50|     7|       0|            2|        1|             1|         100628|     0|\n",
      "|        376|  Germany|Female| 29|     4|11504674|            4|        1|             0|       11934688|     1|\n",
      "|        501|   France|  Male| 44|     4|14205107|            2|        0|             1|         749405|     0|\n",
      "|        684|   France|  Male| 27|     2|13460388|            1|        1|             1|        7172573|     0|\n",
      "|        528|   France|  Male| 31|     6|10201672|            2|        0|             0|        8018112|     0|\n",
      "|        497|    Spain|  Male| 24|     3|       0|            2|        1|             0|        7639001|     0|\n",
      "|        476|   France|Female| 34|    10|       0|            2|        1|             0|        2626098|     0|\n",
      "|        549|   France|Female| 25|     5|       0|            2|        0|             0|       19085779|     0|\n",
      "|        635|    Spain|Female| 35|     7|       0|            2|        1|             1|        6595165|     0|\n",
      "|        616|  Germany|  Male| 45|     3|14312941|            2|        0|             1|        6432726|     0|\n",
      "|        653|  Germany|  Male| 58|     1|13260288|            1|        1|             0|         509767|     1|\n",
      "|        549|    Spain|Female| 24|     9|       0|            2|        1|             1|        1440641|     0|\n",
      "|        587|    Spain|  Male| 45|     6|       0|            1|        0|             0|       15868481|     0|\n",
      "|        726|   France|Female| 24|     6|       0|            2|        1|             1|        5472403|     0|\n",
      "+-----------+---------+------+---+------+--------+-------------+---------+--------------+---------------+------+\n",
      "only showing top 20 rows\n"
     ]
    },
    {
     "name": "stderr",
     "output_type": "stream",
     "text": [
      "                                                                                \r"
     ]
    }
   ],
   "source": [
    "caminho_churn = '/home/robson/curso_spark_pyspark_udemy/Churn.csv'\n",
    "churn = spark.read.csv(caminho_churn, header=True, inferSchema=True, sep=';')\n",
    "churn.show()"
   ]
  },
  {
   "cell_type": "code",
   "execution_count": 7,
   "id": "21ec5df6",
   "metadata": {},
   "outputs": [
    {
     "name": "stderr",
     "output_type": "stream",
     "text": [
      "25/08/05 11:09:52 WARN SessionState: METASTORE_FILTER_HOOK will be ignored, since hive.security.authorization.manager is set to instance of HiveAuthorizerFactory.\n",
      "25/08/05 11:09:53 WARN HiveConf: HiveConf of name hive.internal.ss.authz.settings.applied.marker does not exist\n"
     ]
    }
   ],
   "source": [
    "churn.write.partitionBy('Geography').saveAsTable('churn_geo')"
   ]
  },
  {
   "cell_type": "code",
   "execution_count": 8,
   "id": "8bdb9c32",
   "metadata": {},
   "outputs": [
    {
     "name": "stderr",
     "output_type": "stream",
     "text": [
      "[Stage 7:>                                                          (0 + 1) / 1]\r"
     ]
    },
    {
     "name": "stdout",
     "output_type": "stream",
     "text": [
      "+-----------+------+---+------+--------+-------------+---------+--------------+---------------+------+---------+\n",
      "|CreditScore|Gender|Age|Tenure| Balance|NumOfProducts|HasCrCard|IsActiveMember|EstimatedSalary|Exited|Geography|\n",
      "+-----------+------+---+------+--------+-------------+---------+--------------+---------------+------+---------+\n",
      "|        619|Female| 42|     2|       0|            1|        1|             1|       10134888|     1|   France|\n",
      "|        502|Female| 42|     8| 1596608|            3|        1|             0|       11393157|     1|   France|\n",
      "|        699|Female| 39|     1|       0|            2|        0|             0|        9382663|     0|   France|\n",
      "|        822|  Male| 50|     7|       0|            2|        1|             1|         100628|     0|   France|\n",
      "|        501|  Male| 44|     4|14205107|            2|        0|             1|         749405|     0|   France|\n",
      "|        684|  Male| 27|     2|13460388|            1|        1|             1|        7172573|     0|   France|\n",
      "|        528|  Male| 31|     6|10201672|            2|        0|             0|        8018112|     0|   France|\n",
      "|        476|Female| 34|    10|       0|            2|        1|             0|        2626098|     0|   France|\n",
      "|        549|Female| 25|     5|       0|            2|        0|             0|       19085779|     0|   France|\n",
      "|        726|Female| 24|     6|       0|            2|        1|             1|        5472403|     0|   France|\n",
      "|        732|  Male| 41|     8|       0|            2|        1|             1|       17088617|     0|   France|\n",
      "|        669|  Male| 46|     3|       0|            2|        0|             1|         848775|     0|   France|\n",
      "|        846|Female| 38|     5|       0|            1|        1|             1|       18761616|     0|   France|\n",
      "|        577|  Male| 25|     3|       0|            2|        0|             1|       12450829|     0|   France|\n",
      "|        571|  Male| 44|     9|       0|            2|        0|             0|        3843335|     0|   France|\n",
      "|        411|  Male| 29|     0| 5969717|            2|        1|             1|        5348321|     0|   France|\n",
      "|        533|  Male| 36|     7|  853117|            1|        0|             1|       15673191|     0|   France|\n",
      "|        475|Female| 45|     0|13426404|            1|        1|             0|        2782299|     1|   France|\n",
      "|        850|  Male| 36|     7|       0|            1|        1|             1|         408129|     0|   France|\n",
      "|        465|Female| 51|     8|12252232|            1|        0|             0|       18129765|     1|   France|\n",
      "+-----------+------+---+------+--------+-------------+---------+--------------+---------------+------+---------+\n",
      "only showing top 20 rows\n"
     ]
    },
    {
     "name": "stderr",
     "output_type": "stream",
     "text": [
      "                                                                                \r"
     ]
    }
   ],
   "source": [
    "spark.sql('select * from churn_geo').show()"
   ]
  },
  {
   "cell_type": "code",
   "execution_count": 9,
   "id": "9fe737cd",
   "metadata": {},
   "outputs": [
    {
     "name": "stdout",
     "output_type": "stream",
     "text": [
      "+-----------+------+---+------+--------+-------------+---------+--------------+---------------+------+---------+\n",
      "|CreditScore|Gender|Age|Tenure| Balance|NumOfProducts|HasCrCard|IsActiveMember|EstimatedSalary|Exited|Geography|\n",
      "+-----------+------+---+------+--------+-------------+---------+--------------+---------------+------+---------+\n",
      "|        608|Female| 41|     1| 8380786|            1|        0|             1|       11254258|     0|    Spain|\n",
      "|        850|Female| 43|     2|12551082|            1|        1|             1|         790841|     0|    Spain|\n",
      "|        645|  Male| 44|     8|11375578|            2|        1|             0|       14975671|     1|    Spain|\n",
      "|        497|  Male| 24|     3|       0|            2|        1|             0|        7639001|     0|    Spain|\n",
      "|        635|Female| 35|     7|       0|            2|        1|             1|        6595165|     0|    Spain|\n",
      "|        549|Female| 24|     9|       0|            2|        1|             1|        1440641|     0|    Spain|\n",
      "|        587|  Male| 45|     6|       0|            1|        0|             0|       15868481|     0|    Spain|\n",
      "|        636|Female| 32|     8|       0|            2|        1|             0|       13855546|     0|    Spain|\n",
      "|        510|Female| 38|     4|       0|            1|        1|             0|       11891353|     1|    Spain|\n",
      "|        591|Female| 39|     3|       0|            3|        1|             0|       14046938|     1|    Spain|\n",
      "|        520|Female| 42|     6|       0|            2|        1|             1|        3441055|     0|    Spain|\n",
      "|        722|Female| 29|     9|       0|            2|        1|             1|       14203307|     0|    Spain|\n",
      "|        490|  Male| 31|     3|14526023|            1|        0|             1|       11406677|     0|    Spain|\n",
      "|        804|  Male| 33|     7|  765486|            1|        0|             1|        9845345|     0|    Spain|\n",
      "|        472|  Male| 40|     4|       0|            1|        1|             0|        7015422|     0|    Spain|\n",
      "|        660|Female| 61|     5|15593111|            1|        1|             1|       15833839|     0|    Spain|\n",
      "|        511|Female| 66|     4|       0|            1|        1|             0|         164311|     1|    Spain|\n",
      "|        555|  Male| 33|     1| 5608469|            2|        0|             0|       17879813|     0|    Spain|\n",
      "|        684|  Male| 56|     8| 7870716|            1|        1|             1|        9939836|     0|    Spain|\n",
      "|        657|Female| 37|     0|16360718|            1|        0|             1|        4420355|     0|    Spain|\n",
      "+-----------+------+---+------+--------+-------------+---------+--------------+---------------+------+---------+\n",
      "only showing top 20 rows\n"
     ]
    }
   ],
   "source": [
    "spark.sql('select * from churn_geo where Geography = \"Spain\"').show()"
   ]
  },
  {
   "cell_type": "code",
   "execution_count": 10,
   "id": "c11ddf88",
   "metadata": {},
   "outputs": [
    {
     "name": "stderr",
     "output_type": "stream",
     "text": [
      "                                                                                \r"
     ]
    }
   ],
   "source": [
    "churn.write.bucketBy(3, 'Geography').saveAsTable('churn_geo2')"
   ]
  },
  {
   "cell_type": "code",
   "execution_count": 11,
   "id": "565753cf",
   "metadata": {},
   "outputs": [
    {
     "name": "stdout",
     "output_type": "stream",
     "text": [
      "+-----------+---------+------+---+------+--------+-------------+---------+--------------+---------------+------+\n",
      "|CreditScore|Geography|Gender|Age|Tenure| Balance|NumOfProducts|HasCrCard|IsActiveMember|EstimatedSalary|Exited|\n",
      "+-----------+---------+------+---+------+--------+-------------+---------+--------------+---------------+------+\n",
      "|        619|   France|Female| 42|     2|       0|            1|        1|             1|       10134888|     1|\n",
      "|        608|    Spain|Female| 41|     1| 8380786|            1|        0|             1|       11254258|     0|\n",
      "|        502|   France|Female| 42|     8| 1596608|            3|        1|             0|       11393157|     1|\n",
      "|        699|   France|Female| 39|     1|       0|            2|        0|             0|        9382663|     0|\n",
      "|        850|    Spain|Female| 43|     2|12551082|            1|        1|             1|         790841|     0|\n",
      "|        645|    Spain|  Male| 44|     8|11375578|            2|        1|             0|       14975671|     1|\n",
      "|        822|   France|  Male| 50|     7|       0|            2|        1|             1|         100628|     0|\n",
      "|        501|   France|  Male| 44|     4|14205107|            2|        0|             1|         749405|     0|\n",
      "|        684|   France|  Male| 27|     2|13460388|            1|        1|             1|        7172573|     0|\n",
      "|        528|   France|  Male| 31|     6|10201672|            2|        0|             0|        8018112|     0|\n",
      "|        497|    Spain|  Male| 24|     3|       0|            2|        1|             0|        7639001|     0|\n",
      "|        476|   France|Female| 34|    10|       0|            2|        1|             0|        2626098|     0|\n",
      "|        549|   France|Female| 25|     5|       0|            2|        0|             0|       19085779|     0|\n",
      "|        635|    Spain|Female| 35|     7|       0|            2|        1|             1|        6595165|     0|\n",
      "|        549|    Spain|Female| 24|     9|       0|            2|        1|             1|        1440641|     0|\n",
      "|        587|    Spain|  Male| 45|     6|       0|            1|        0|             0|       15868481|     0|\n",
      "|        726|   France|Female| 24|     6|       0|            2|        1|             1|        5472403|     0|\n",
      "|        732|   France|  Male| 41|     8|       0|            2|        1|             1|       17088617|     0|\n",
      "|        636|    Spain|Female| 32|     8|       0|            2|        1|             0|       13855546|     0|\n",
      "|        510|    Spain|Female| 38|     4|       0|            1|        1|             0|       11891353|     1|\n",
      "+-----------+---------+------+---+------+--------+-------------+---------+--------------+---------------+------+\n",
      "only showing top 20 rows\n"
     ]
    }
   ],
   "source": [
    "spark.sql('select * from churn_geo2').show()"
   ]
  }
 ],
 "metadata": {
  "kernelspec": {
   "display_name": "spark",
   "language": "python",
   "name": "python3"
  },
  "language_info": {
   "codemirror_mode": {
    "name": "ipython",
    "version": 3
   },
   "file_extension": ".py",
   "mimetype": "text/x-python",
   "name": "python",
   "nbconvert_exporter": "python",
   "pygments_lexer": "ipython3",
   "version": "3.12.3"
  }
 },
 "nbformat": 4,
 "nbformat_minor": 5
}
