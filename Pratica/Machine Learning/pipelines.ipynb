{
 "cells": [
  {
   "cell_type": "code",
   "execution_count": 1,
   "id": "36966f69",
   "metadata": {},
   "outputs": [
    {
     "name": "stderr",
     "output_type": "stream",
     "text": [
      "WARNING: Using incubator modules: jdk.incubator.vector\n",
      "Using Spark's default log4j profile: org/apache/spark/log4j2-defaults.properties\n",
      "25/07/28 16:15:04 WARN Utils: Your hostname, LAPTOP-CO0U45G1, resolves to a loopback address: 127.0.1.1; using 172.20.235.103 instead (on interface eth0)\n",
      "25/07/28 16:15:04 WARN Utils: Set SPARK_LOCAL_IP if you need to bind to another address\n",
      "Using Spark's default log4j profile: org/apache/spark/log4j2-defaults.properties\n",
      "Setting default log level to \"WARN\".\n",
      "To adjust logging level use sc.setLogLevel(newLevel). For SparkR, use setLogLevel(newLevel).\n",
      "25/07/28 16:15:10 WARN NativeCodeLoader: Unable to load native-hadoop library for your platform... using builtin-java classes where applicable\n",
      "25/07/28 16:15:22 WARN Utils: Service 'SparkUI' could not bind on port 4040. Attempting port 4041.\n"
     ]
    }
   ],
   "source": [
    "from pyspark.sql import SparkSession\n",
    "\n",
    "spark = SparkSession.builder.appName(\"TesteNotebook\").getOrCreate()"
   ]
  },
  {
   "cell_type": "code",
   "execution_count": 2,
   "id": "bba3f1b7",
   "metadata": {},
   "outputs": [],
   "source": [
    "from pyspark.ml.regression import LinearRegression\n",
    "from pyspark.ml.feature import VectorAssembler"
   ]
  },
  {
   "cell_type": "code",
   "execution_count": 3,
   "id": "741bfa70",
   "metadata": {},
   "outputs": [
    {
     "name": "stderr",
     "output_type": "stream",
     "text": [
      "                                                                                \r"
     ]
    }
   ],
   "source": [
    "carros_temp = spark.read.csv('/home/robson/curso_spark_pyspark_udemy/Carros.csv', \n",
    "                             inferSchema=True, \n",
    "                             header=True,\n",
    "                             sep=';')\n"
   ]
  },
  {
   "cell_type": "code",
   "execution_count": 4,
   "id": "fcfc6c7d",
   "metadata": {},
   "outputs": [
    {
     "name": "stderr",
     "output_type": "stream",
     "text": [
      "                                                                                \r"
     ]
    },
    {
     "name": "stdout",
     "output_type": "stream",
     "text": [
      "+-------+---------+-----------+---------------+----+-----+---------+-----------+-------+-----------+---+\n",
      "|Consumo|Cilindros|Cilindradas|RelEixoTraseiro|Peso|Tempo|TipoMotor|Transmissao|Marchas|Carburadors| HP|\n",
      "+-------+---------+-----------+---------------+----+-----+---------+-----------+-------+-----------+---+\n",
      "|     21|        6|        160|             39| 262| 1646|        0|          1|      4|          4|110|\n",
      "|     21|        6|        160|             39|2875| 1702|        0|          1|      4|          4|110|\n",
      "|    228|        4|        108|            385| 232| 1861|        1|          1|      4|          1| 93|\n",
      "|    214|        6|        258|            308|3215| 1944|        1|          0|      3|          1|110|\n",
      "|    187|        8|        360|            315| 344| 1702|        0|          0|      3|          2|175|\n",
      "|    181|        6|        225|            276| 346| 2022|        1|          0|      3|          1|105|\n",
      "|    143|        8|        360|            321| 357| 1584|        0|          0|      3|          4|245|\n",
      "|    244|        4|       1467|            369| 319|   20|        1|          0|      4|          2| 62|\n",
      "|    228|        4|       1408|            392| 315|  229|        1|          0|      4|          2| 95|\n",
      "|    192|        6|       1676|            392| 344|  183|        1|          0|      4|          4|123|\n",
      "|    178|        6|       1676|            392| 344|  189|        1|          0|      4|          4|123|\n",
      "|    164|        8|       2758|            307| 407|  174|        0|          0|      3|          3|180|\n",
      "|    173|        8|       2758|            307| 373|  176|        0|          0|      3|          3|180|\n",
      "|    152|        8|       2758|            307| 378|   18|        0|          0|      3|          3|180|\n",
      "|    104|        8|        472|            293| 525| 1798|        0|          0|      3|          4|205|\n",
      "|    104|        8|        460|              3|5424| 1782|        0|          0|      3|          4|215|\n",
      "|    147|        8|        440|            323|5345| 1742|        0|          0|      3|          4|230|\n",
      "|    324|        4|        787|            408|  22| 1947|        1|          1|      4|          1| 66|\n",
      "|    304|        4|        757|            493|1615| 1852|        1|          1|      4|          2| 52|\n",
      "|    339|        4|        711|            422|1835|  199|        1|          1|      4|          1| 65|\n",
      "+-------+---------+-----------+---------------+----+-----+---------+-----------+-------+-----------+---+\n",
      "only showing top 20 rows\n"
     ]
    }
   ],
   "source": [
    "carros_temp.show()"
   ]
  },
  {
   "cell_type": "code",
   "execution_count": 5,
   "id": "8886ab30",
   "metadata": {},
   "outputs": [
    {
     "name": "stderr",
     "output_type": "stream",
     "text": [
      "                                                                                \r"
     ]
    },
    {
     "name": "stdout",
     "output_type": "stream",
     "text": [
      "+-------+---------+-----------+---+\n",
      "|Consumo|Cilindros|Cilindradas| HP|\n",
      "+-------+---------+-----------+---+\n",
      "|     21|        6|        160|110|\n",
      "|     21|        6|        160|110|\n",
      "|    228|        4|        108| 93|\n",
      "|    214|        6|        258|110|\n",
      "|    187|        8|        360|175|\n",
      "|    181|        6|        225|105|\n",
      "|    143|        8|        360|245|\n",
      "|    244|        4|       1467| 62|\n",
      "|    228|        4|       1408| 95|\n",
      "|    192|        6|       1676|123|\n",
      "|    178|        6|       1676|123|\n",
      "|    164|        8|       2758|180|\n",
      "|    173|        8|       2758|180|\n",
      "|    152|        8|       2758|180|\n",
      "|    104|        8|        472|205|\n",
      "|    104|        8|        460|215|\n",
      "|    147|        8|        440|230|\n",
      "|    324|        4|        787| 66|\n",
      "|    304|        4|        757| 52|\n",
      "|    339|        4|        711| 65|\n",
      "+-------+---------+-----------+---+\n",
      "only showing top 20 rows\n"
     ]
    }
   ],
   "source": [
    "carros = carros_temp.select(\"Consumo\", \"Cilindros\", \"Cilindradas\", \"HP\")\n",
    "carros.show()"
   ]
  },
  {
   "cell_type": "code",
   "execution_count": 6,
   "id": "f98c5cfa",
   "metadata": {},
   "outputs": [],
   "source": [
    "vec_caracteristicas = VectorAssembler(\n",
    "    inputCols=[\"Consumo\", \"Cilindros\", \"Cilindradas\"],\n",
    "    outputCol=\"caracteristicas\"\n",
    ")"
   ]
  },
  {
   "cell_type": "code",
   "execution_count": 7,
   "id": "31e89bda",
   "metadata": {},
   "outputs": [],
   "source": [
    "vec_carrosTreino = vec_caracteristicas.transform(carros)"
   ]
  },
  {
   "cell_type": "code",
   "execution_count": 8,
   "id": "fe61f83c",
   "metadata": {},
   "outputs": [
    {
     "name": "stderr",
     "output_type": "stream",
     "text": [
      "[Stage 4:>                                                          (0 + 1) / 1]\r"
     ]
    },
    {
     "name": "stdout",
     "output_type": "stream",
     "text": [
      "+-------+---------+-----------+---+------------------+\n",
      "|Consumo|Cilindros|Cilindradas| HP|   caracteristicas|\n",
      "+-------+---------+-----------+---+------------------+\n",
      "|     21|        6|        160|110|  [21.0,6.0,160.0]|\n",
      "|     21|        6|        160|110|  [21.0,6.0,160.0]|\n",
      "|    228|        4|        108| 93| [228.0,4.0,108.0]|\n",
      "|    214|        6|        258|110| [214.0,6.0,258.0]|\n",
      "|    187|        8|        360|175| [187.0,8.0,360.0]|\n",
      "|    181|        6|        225|105| [181.0,6.0,225.0]|\n",
      "|    143|        8|        360|245| [143.0,8.0,360.0]|\n",
      "|    244|        4|       1467| 62|[244.0,4.0,1467.0]|\n",
      "|    228|        4|       1408| 95|[228.0,4.0,1408.0]|\n",
      "|    192|        6|       1676|123|[192.0,6.0,1676.0]|\n",
      "|    178|        6|       1676|123|[178.0,6.0,1676.0]|\n",
      "|    164|        8|       2758|180|[164.0,8.0,2758.0]|\n",
      "|    173|        8|       2758|180|[173.0,8.0,2758.0]|\n",
      "|    152|        8|       2758|180|[152.0,8.0,2758.0]|\n",
      "|    104|        8|        472|205| [104.0,8.0,472.0]|\n",
      "|    104|        8|        460|215| [104.0,8.0,460.0]|\n",
      "|    147|        8|        440|230| [147.0,8.0,440.0]|\n",
      "|    324|        4|        787| 66| [324.0,4.0,787.0]|\n",
      "|    304|        4|        757| 52| [304.0,4.0,757.0]|\n",
      "|    339|        4|        711| 65| [339.0,4.0,711.0]|\n",
      "+-------+---------+-----------+---+------------------+\n",
      "only showing top 20 rows\n"
     ]
    },
    {
     "name": "stderr",
     "output_type": "stream",
     "text": [
      "                                                                                \r"
     ]
    }
   ],
   "source": [
    "vec_carrosTreino.show()"
   ]
  },
  {
   "cell_type": "code",
   "execution_count": 9,
   "id": "3f02d1f5",
   "metadata": {},
   "outputs": [],
   "source": [
    "reglin = LinearRegression(\n",
    "    featuresCol=\"caracteristicas\",\n",
    "    labelCol=\"HP\",\n",
    "    maxIter=10,\n",
    "    regParam=0.3,\n",
    "    elasticNetParam=0.8\n",
    "    )"
   ]
  },
  {
   "cell_type": "code",
   "execution_count": 10,
   "id": "3f3e9753",
   "metadata": {},
   "outputs": [
    {
     "name": "stderr",
     "output_type": "stream",
     "text": [
      "25/07/28 16:21:39 WARN InstanceBuilder: Failed to load implementation from:dev.ludovic.netlib.blas.JNIBLAS\n",
      "                                                                                \r"
     ]
    }
   ],
   "source": [
    "modelo = reglin.fit(vec_carrosTreino)"
   ]
  },
  {
   "cell_type": "code",
   "execution_count": 12,
   "id": "46bd1056",
   "metadata": {},
   "outputs": [],
   "source": [
    "from pyspark.ml import Pipeline"
   ]
  },
  {
   "cell_type": "code",
   "execution_count": 13,
   "id": "50826acb",
   "metadata": {},
   "outputs": [],
   "source": [
    "pipeline = Pipeline(stages=[vec_caracteristicas, reglin])"
   ]
  },
  {
   "cell_type": "code",
   "execution_count": 15,
   "id": "741a23ac",
   "metadata": {},
   "outputs": [],
   "source": [
    "pipelineModel = pipeline.fit(carros)"
   ]
  },
  {
   "cell_type": "code",
   "execution_count": 16,
   "id": "29f889f7",
   "metadata": {},
   "outputs": [],
   "source": [
    "previsao = pipelineModel.transform(carros)"
   ]
  },
  {
   "cell_type": "code",
   "execution_count": 17,
   "id": "9a7165e5",
   "metadata": {},
   "outputs": [
    {
     "name": "stdout",
     "output_type": "stream",
     "text": [
      "+-------+---------+-----------+---+------------------+------------------+\n",
      "|Consumo|Cilindros|Cilindradas|HP |caracteristicas   |prediction        |\n",
      "+-------+---------+-----------+---+------------------+------------------+\n",
      "|21     |6        |160        |110|[21.0,6.0,160.0]  |161.97644881051687|\n",
      "|21     |6        |160        |110|[21.0,6.0,160.0]  |161.97644881051687|\n",
      "|228    |4        |108        |93 |[228.0,4.0,108.0] |82.66378378666553 |\n",
      "|214    |6        |258        |110|[214.0,6.0,258.0] |141.75976237910498|\n",
      "|187    |8        |360        |175|[187.0,8.0,360.0] |202.54523497777276|\n",
      "|181    |6        |225        |105|[181.0,6.0,225.0] |145.34509861662772|\n",
      "|143    |8        |360        |245|[143.0,8.0,360.0] |206.97734306141297|\n",
      "|244    |4        |1467       |62 |[244.0,4.0,1467.0]|70.29314501252023 |\n",
      "|228    |4        |1408       |95 |[228.0,4.0,1408.0]|72.3719132645337  |\n",
      "|192    |6        |1676       |123|[192.0,6.0,1676.0]|132.74976072832283|\n",
      "|178    |6        |1676       |123|[178.0,6.0,1676.0]|134.1599769367538 |\n",
      "|164    |8        |2758       |180|[164.0,8.0,2758.0]|185.87747604717256|\n",
      "|173    |8        |2758       |180|[173.0,8.0,2758.0]|184.9709084846098 |\n",
      "|152    |8        |2758       |180|[152.0,8.0,2758.0]|187.08623279725626|\n",
      "|104    |8        |472        |205|[104.0,8.0,472.0] |210.01911826958593|\n",
      "|104    |8        |460        |215|[104.0,8.0,460.0] |210.11412015132868|\n",
      "|147    |8        |440        |230|[147.0,8.0,440.0] |205.94107826643338|\n",
      "|324    |4        |787        |66 |[324.0,4.0,787.0] |67.61820664405178 |\n",
      "|304    |4        |757        |52 |[304.0,4.0,757.0] |69.87030593188149 |\n",
      "|339    |4        |711        |65 |[339.0,4.0,711.0] |66.70893929081794 |\n",
      "+-------+---------+-----------+---+------------------+------------------+\n",
      "only showing top 20 rows\n"
     ]
    }
   ],
   "source": [
    "previsao.show(truncate=False)"
   ]
  },
  {
   "cell_type": "code",
   "execution_count": null,
   "id": "e1ca9240",
   "metadata": {},
   "outputs": [],
   "source": []
  }
 ],
 "metadata": {
  "kernelspec": {
   "display_name": "spark",
   "language": "python",
   "name": "python3"
  },
  "language_info": {
   "codemirror_mode": {
    "name": "ipython",
    "version": 3
   },
   "file_extension": ".py",
   "mimetype": "text/x-python",
   "name": "python",
   "nbconvert_exporter": "python",
   "pygments_lexer": "ipython3",
   "version": "3.12.3"
  }
 },
 "nbformat": 4,
 "nbformat_minor": 5
}
