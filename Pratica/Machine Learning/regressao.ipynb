{
 "cells": [
  {
   "cell_type": "code",
   "execution_count": 3,
   "id": "b2e4fcef",
   "metadata": {},
   "outputs": [
    {
     "name": "stdout",
     "output_type": "stream",
     "text": [
      "+---+-----+\n",
      "| id| nome|\n",
      "+---+-----+\n",
      "|  1|Teste|\n",
      "|  2|Spark|\n",
      "+---+-----+\n",
      "\n"
     ]
    }
   ],
   "source": [
    "from pyspark.sql import SparkSession\n",
    "\n",
    "spark = SparkSession.builder.appName(\"TesteNotebook\").getOrCreate()\n",
    "\n",
    "df = spark.createDataFrame([\n",
    "    (1, \"Teste\"),\n",
    "    (2, \"Spark\")\n",
    "], [\"id\", \"nome\"])\n",
    "\n",
    "df.show()\n"
   ]
  },
  {
   "cell_type": "code",
   "execution_count": 5,
   "id": "5e2cd908",
   "metadata": {},
   "outputs": [],
   "source": [
    "from pyspark.ml.regression import LinearRegression, RandomForestRegressor\n",
    "from pyspark.ml.evaluation import RegressionEvaluator\n",
    "from pyspark.ml.feature import VectorAssembler"
   ]
  },
  {
   "cell_type": "code",
   "execution_count": 6,
   "id": "1eb5e580",
   "metadata": {},
   "outputs": [
    {
     "name": "stderr",
     "output_type": "stream",
     "text": [
      "                                                                                \r"
     ]
    }
   ],
   "source": [
    "carros_temp = spark.read.csv('/home/robson/curso_spark_pyspark_udemy/Carros.csv', \n",
    "                             inferSchema=True, \n",
    "                             header=True,\n",
    "                             sep=';')\n"
   ]
  },
  {
   "cell_type": "code",
   "execution_count": 7,
   "id": "847969be",
   "metadata": {},
   "outputs": [
    {
     "name": "stdout",
     "output_type": "stream",
     "text": [
      "+-------+---------+-----------+---------------+----+-----+---------+-----------+-------+-----------+---+\n",
      "|Consumo|Cilindros|Cilindradas|RelEixoTraseiro|Peso|Tempo|TipoMotor|Transmissao|Marchas|Carburadors| HP|\n",
      "+-------+---------+-----------+---------------+----+-----+---------+-----------+-------+-----------+---+\n",
      "|     21|        6|        160|             39| 262| 1646|        0|          1|      4|          4|110|\n",
      "|     21|        6|        160|             39|2875| 1702|        0|          1|      4|          4|110|\n",
      "|    228|        4|        108|            385| 232| 1861|        1|          1|      4|          1| 93|\n",
      "|    214|        6|        258|            308|3215| 1944|        1|          0|      3|          1|110|\n",
      "|    187|        8|        360|            315| 344| 1702|        0|          0|      3|          2|175|\n",
      "|    181|        6|        225|            276| 346| 2022|        1|          0|      3|          1|105|\n",
      "|    143|        8|        360|            321| 357| 1584|        0|          0|      3|          4|245|\n",
      "|    244|        4|       1467|            369| 319|   20|        1|          0|      4|          2| 62|\n",
      "|    228|        4|       1408|            392| 315|  229|        1|          0|      4|          2| 95|\n",
      "|    192|        6|       1676|            392| 344|  183|        1|          0|      4|          4|123|\n",
      "|    178|        6|       1676|            392| 344|  189|        1|          0|      4|          4|123|\n",
      "|    164|        8|       2758|            307| 407|  174|        0|          0|      3|          3|180|\n",
      "|    173|        8|       2758|            307| 373|  176|        0|          0|      3|          3|180|\n",
      "|    152|        8|       2758|            307| 378|   18|        0|          0|      3|          3|180|\n",
      "|    104|        8|        472|            293| 525| 1798|        0|          0|      3|          4|205|\n",
      "|    104|        8|        460|              3|5424| 1782|        0|          0|      3|          4|215|\n",
      "|    147|        8|        440|            323|5345| 1742|        0|          0|      3|          4|230|\n",
      "|    324|        4|        787|            408|  22| 1947|        1|          1|      4|          1| 66|\n",
      "|    304|        4|        757|            493|1615| 1852|        1|          1|      4|          2| 52|\n",
      "|    339|        4|        711|            422|1835|  199|        1|          1|      4|          1| 65|\n",
      "+-------+---------+-----------+---------------+----+-----+---------+-----------+-------+-----------+---+\n",
      "only showing top 20 rows\n"
     ]
    }
   ],
   "source": [
    "carros_temp.show()"
   ]
  },
  {
   "cell_type": "code",
   "execution_count": 8,
   "id": "9e121ae9",
   "metadata": {},
   "outputs": [
    {
     "name": "stdout",
     "output_type": "stream",
     "text": [
      "+-------+---------+-----------+---+\n",
      "|Consumo|Cilindros|Cilindradas| HP|\n",
      "+-------+---------+-----------+---+\n",
      "|     21|        6|        160|110|\n",
      "|     21|        6|        160|110|\n",
      "|    228|        4|        108| 93|\n",
      "|    214|        6|        258|110|\n",
      "|    187|        8|        360|175|\n",
      "|    181|        6|        225|105|\n",
      "|    143|        8|        360|245|\n",
      "|    244|        4|       1467| 62|\n",
      "|    228|        4|       1408| 95|\n",
      "|    192|        6|       1676|123|\n",
      "|    178|        6|       1676|123|\n",
      "|    164|        8|       2758|180|\n",
      "|    173|        8|       2758|180|\n",
      "|    152|        8|       2758|180|\n",
      "|    104|        8|        472|205|\n",
      "|    104|        8|        460|215|\n",
      "|    147|        8|        440|230|\n",
      "|    324|        4|        787| 66|\n",
      "|    304|        4|        757| 52|\n",
      "|    339|        4|        711| 65|\n",
      "+-------+---------+-----------+---+\n",
      "only showing top 20 rows\n"
     ]
    }
   ],
   "source": [
    "carros = carros_temp.select(\"Consumo\", \"Cilindros\", \"Cilindradas\", \"HP\")\n",
    "carros.show()"
   ]
  },
  {
   "cell_type": "code",
   "execution_count": 10,
   "id": "433dfae6",
   "metadata": {},
   "outputs": [],
   "source": [
    "vec_caracteristicas = VectorAssembler(\n",
    "    inputCols=[\"Consumo\", \"Cilindros\", \"Cilindradas\"],\n",
    "    outputCol=\"caracteristicas\"\n",
    ")"
   ]
  },
  {
   "cell_type": "code",
   "execution_count": 11,
   "id": "5d01d4d6",
   "metadata": {},
   "outputs": [],
   "source": [
    "carros = vec_caracteristicas.transform(carros)"
   ]
  },
  {
   "cell_type": "code",
   "execution_count": null,
   "id": "c6fde18d",
   "metadata": {},
   "outputs": [
    {
     "name": "stderr",
     "output_type": "stream",
     "text": [
      "                                                                                \r"
     ]
    },
    {
     "name": "stdout",
     "output_type": "stream",
     "text": [
      "+-------+---------+-----------+---+------------------+\n",
      "|Consumo|Cilindros|Cilindradas| HP|   caracteristicas|\n",
      "+-------+---------+-----------+---+------------------+\n",
      "|     21|        6|        160|110|  [21.0,6.0,160.0]|\n",
      "|     21|        6|        160|110|  [21.0,6.0,160.0]|\n",
      "|    228|        4|        108| 93| [228.0,4.0,108.0]|\n",
      "|    214|        6|        258|110| [214.0,6.0,258.0]|\n",
      "|    187|        8|        360|175| [187.0,8.0,360.0]|\n",
      "|    181|        6|        225|105| [181.0,6.0,225.0]|\n",
      "|    143|        8|        360|245| [143.0,8.0,360.0]|\n",
      "|    244|        4|       1467| 62|[244.0,4.0,1467.0]|\n",
      "|    228|        4|       1408| 95|[228.0,4.0,1408.0]|\n",
      "|    192|        6|       1676|123|[192.0,6.0,1676.0]|\n",
      "|    178|        6|       1676|123|[178.0,6.0,1676.0]|\n",
      "|    164|        8|       2758|180|[164.0,8.0,2758.0]|\n",
      "|    173|        8|       2758|180|[173.0,8.0,2758.0]|\n",
      "|    152|        8|       2758|180|[152.0,8.0,2758.0]|\n",
      "|    104|        8|        472|205| [104.0,8.0,472.0]|\n",
      "|    104|        8|        460|215| [104.0,8.0,460.0]|\n",
      "|    147|        8|        440|230| [147.0,8.0,440.0]|\n",
      "|    324|        4|        787| 66| [324.0,4.0,787.0]|\n",
      "|    304|        4|        757| 52| [304.0,4.0,757.0]|\n",
      "|    339|        4|        711| 65| [339.0,4.0,711.0]|\n",
      "+-------+---------+-----------+---+------------------+\n",
      "only showing top 20 rows\n"
     ]
    }
   ],
   "source": [
    "carros.show()"
   ]
  },
  {
   "cell_type": "code",
   "execution_count": 15,
   "id": "41c1f224",
   "metadata": {},
   "outputs": [],
   "source": [
    "carros_treino, carros_teste = carros.randomSplit([0.7, 0.3])"
   ]
  },
  {
   "cell_type": "code",
   "execution_count": 18,
   "id": "3d3c48f9",
   "metadata": {},
   "outputs": [
    {
     "name": "stderr",
     "output_type": "stream",
     "text": [
      "                                                                                \r"
     ]
    },
    {
     "name": "stdout",
     "output_type": "stream",
     "text": [
      "21 11\n"
     ]
    }
   ],
   "source": [
    "print(carros_treino.count(), carros_teste.count())"
   ]
  },
  {
   "cell_type": "code",
   "execution_count": 35,
   "id": "bb35fed9",
   "metadata": {},
   "outputs": [],
   "source": [
    "reglin = LinearRegression(\n",
    "    featuresCol=\"caracteristicas\",\n",
    "    labelCol=\"HP\",\n",
    "    maxIter=10,\n",
    "    regParam=0.3,\n",
    "    elasticNetParam=0.8\n",
    ")"
   ]
  },
  {
   "cell_type": "code",
   "execution_count": 36,
   "id": "a3b501ac",
   "metadata": {},
   "outputs": [],
   "source": [
    "modelo = reglin.fit(carros_treino)"
   ]
  },
  {
   "cell_type": "code",
   "execution_count": 37,
   "id": "b980fe09",
   "metadata": {},
   "outputs": [],
   "source": [
    "previsao = modelo.transform(carros_teste)"
   ]
  },
  {
   "cell_type": "code",
   "execution_count": 38,
   "id": "0d83d9da",
   "metadata": {},
   "outputs": [
    {
     "name": "stdout",
     "output_type": "stream",
     "text": [
      "+-------+---------+-----------+---+------------------+------------------+\n",
      "|Consumo|Cilindros|Cilindradas| HP|   caracteristicas|        prediction|\n",
      "+-------+---------+-----------+---+------------------+------------------+\n",
      "|     21|        6|        160|110|  [21.0,6.0,160.0]|200.74494786684545|\n",
      "|     21|        6|        160|110|  [21.0,6.0,160.0]|200.74494786684545|\n",
      "|    104|        8|        460|215| [104.0,8.0,460.0]| 225.9417736798748|\n",
      "|    147|        8|        440|230| [147.0,8.0,440.0]|212.36124616417095|\n",
      "|    173|        8|       2758|180|[173.0,8.0,2758.0]|171.51636583344725|\n",
      "|    192|        8|        400|175| [192.0,8.0,400.0]|198.41614194726964|\n",
      "|    214|        4|        121|109| [214.0,4.0,121.0]| 82.92685431999386|\n",
      "|    215|        4|       1201| 97|[215.0,4.0,1201.0]|  67.4789074338943|\n",
      "|    228|        4|       1408| 95|[228.0,4.0,1408.0]|   60.389409402291|\n",
      "|    304|        4|        951|113| [304.0,4.0,951.0]| 42.29192178774559|\n",
      "|    339|        4|        711| 65| [339.0,4.0,711.0]| 34.37125847192342|\n",
      "+-------+---------+-----------+---+------------------+------------------+\n",
      "\n"
     ]
    }
   ],
   "source": [
    "previsao.show()"
   ]
  },
  {
   "cell_type": "code",
   "execution_count": 39,
   "id": "5ad4bb43",
   "metadata": {},
   "outputs": [],
   "source": [
    "avaliar = RegressionEvaluator(\n",
    "    predictionCol=\"prediction\",\n",
    "    labelCol=\"HP\",\n",
    "    metricName=\"rmse\"\n",
    ")"
   ]
  },
  {
   "cell_type": "code",
   "execution_count": 40,
   "id": "fb1493fa",
   "metadata": {},
   "outputs": [],
   "source": [
    "rmse = avaliar.evaluate(previsao)"
   ]
  },
  {
   "cell_type": "code",
   "execution_count": 41,
   "id": "0bddd63a",
   "metadata": {},
   "outputs": [
    {
     "name": "stdout",
     "output_type": "stream",
     "text": [
      "48.81074385527301\n"
     ]
    }
   ],
   "source": [
    "print(rmse)"
   ]
  },
  {
   "cell_type": "code",
   "execution_count": 42,
   "id": "8d216211",
   "metadata": {},
   "outputs": [],
   "source": [
    "rfreg = RandomForestRegressor(\n",
    "    featuresCol=\"caracteristicas\",\n",
    "    labelCol=\"HP\",\n",
    "    numTrees=10,\n",
    "    maxDepth=5,\n",
    "    seed=42\n",
    ")"
   ]
  },
  {
   "cell_type": "code",
   "execution_count": 43,
   "id": "a6318a93",
   "metadata": {},
   "outputs": [
    {
     "name": "stderr",
     "output_type": "stream",
     "text": [
      "25/07/26 17:59:07 WARN DecisionTreeMetadata: DecisionTree reducing maxBins from 32 to 21 (= number of training instances)\n"
     ]
    }
   ],
   "source": [
    "modelo2 = rfreg.fit(carros_treino) "
   ]
  },
  {
   "cell_type": "code",
   "execution_count": 44,
   "id": "08f1f8ec",
   "metadata": {},
   "outputs": [],
   "source": [
    "previsao2 = modelo2.transform(carros_teste)"
   ]
  },
  {
   "cell_type": "code",
   "execution_count": 45,
   "id": "56c70346",
   "metadata": {},
   "outputs": [
    {
     "name": "stderr",
     "output_type": "stream",
     "text": [
      "[Stage 59:>                                                         (0 + 1) / 1]\r"
     ]
    },
    {
     "name": "stdout",
     "output_type": "stream",
     "text": [
      "+-------+---------+-----------+---+------------------+------------------+\n",
      "|Consumo|Cilindros|Cilindradas| HP|   caracteristicas|        prediction|\n",
      "+-------+---------+-----------+---+------------------+------------------+\n",
      "|     21|        6|        160|110|  [21.0,6.0,160.0]|             188.1|\n",
      "|     21|        6|        160|110|  [21.0,6.0,160.0]|             188.1|\n",
      "|    104|        8|        460|215| [104.0,8.0,460.0]|            188.95|\n",
      "|    147|        8|        440|230| [147.0,8.0,440.0]|185.11666666666665|\n",
      "|    173|        8|       2758|180|[173.0,8.0,2758.0]|            179.45|\n",
      "|    192|        8|        400|175| [192.0,8.0,400.0]|            171.26|\n",
      "|    214|        4|        121|109| [214.0,4.0,121.0]|             99.25|\n",
      "|    215|        4|       1201| 97|[215.0,4.0,1201.0]|              84.5|\n",
      "|    228|        4|       1408| 95|[228.0,4.0,1408.0]|              77.1|\n",
      "|    304|        4|        951|113| [304.0,4.0,951.0]|             64.19|\n",
      "|    339|        4|        711| 65| [339.0,4.0,711.0]|             61.79|\n",
      "+-------+---------+-----------+---+------------------+------------------+\n",
      "\n"
     ]
    },
    {
     "name": "stderr",
     "output_type": "stream",
     "text": [
      "                                                                                \r"
     ]
    }
   ],
   "source": [
    "previsao2.show()"
   ]
  },
  {
   "cell_type": "code",
   "execution_count": 46,
   "id": "bc701fab",
   "metadata": {},
   "outputs": [
    {
     "name": "stdout",
     "output_type": "stream",
     "text": [
      "+-------+---------+-----------+---+------------------+------------------+\n",
      "|Consumo|Cilindros|Cilindradas| HP|   caracteristicas|        prediction|\n",
      "+-------+---------+-----------+---+------------------+------------------+\n",
      "|     21|        6|        160|110|  [21.0,6.0,160.0]|200.74494786684545|\n",
      "|     21|        6|        160|110|  [21.0,6.0,160.0]|200.74494786684545|\n",
      "|    104|        8|        460|215| [104.0,8.0,460.0]| 225.9417736798748|\n",
      "|    147|        8|        440|230| [147.0,8.0,440.0]|212.36124616417095|\n",
      "|    173|        8|       2758|180|[173.0,8.0,2758.0]|171.51636583344725|\n",
      "|    192|        8|        400|175| [192.0,8.0,400.0]|198.41614194726964|\n",
      "|    214|        4|        121|109| [214.0,4.0,121.0]| 82.92685431999386|\n",
      "|    215|        4|       1201| 97|[215.0,4.0,1201.0]|  67.4789074338943|\n",
      "|    228|        4|       1408| 95|[228.0,4.0,1408.0]|   60.389409402291|\n",
      "|    304|        4|        951|113| [304.0,4.0,951.0]| 42.29192178774559|\n",
      "|    339|        4|        711| 65| [339.0,4.0,711.0]| 34.37125847192342|\n",
      "+-------+---------+-----------+---+------------------+------------------+\n",
      "\n"
     ]
    }
   ],
   "source": [
    "previsao.show()"
   ]
  },
  {
   "cell_type": "code",
   "execution_count": 47,
   "id": "b0e10aa2",
   "metadata": {},
   "outputs": [
    {
     "name": "stderr",
     "output_type": "stream",
     "text": [
      "                                                                                \r"
     ]
    }
   ],
   "source": [
    "rmse2 = avaliar.evaluate(previsao2)"
   ]
  },
  {
   "cell_type": "code",
   "execution_count": 49,
   "id": "30a42eca",
   "metadata": {},
   "outputs": [
    {
     "name": "stdout",
     "output_type": "stream",
     "text": [
      "40.30685584714874\n",
      "48.81074385527301\n"
     ]
    }
   ],
   "source": [
    "print(rmse2)\n",
    "print(rmse)"
   ]
  },
  {
   "cell_type": "code",
   "execution_count": null,
   "id": "6a29d1fb",
   "metadata": {},
   "outputs": [],
   "source": []
  }
 ],
 "metadata": {
  "kernelspec": {
   "display_name": "spark",
   "language": "python",
   "name": "python3"
  },
  "language_info": {
   "codemirror_mode": {
    "name": "ipython",
    "version": 3
   },
   "file_extension": ".py",
   "mimetype": "text/x-python",
   "name": "python",
   "nbconvert_exporter": "python",
   "pygments_lexer": "ipython3",
   "version": "3.12.3"
  }
 },
 "nbformat": 4,
 "nbformat_minor": 5
}
