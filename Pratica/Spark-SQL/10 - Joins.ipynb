{
 "cells": [
  {
   "cell_type": "code",
   "execution_count": 0,
   "metadata": {
    "application/vnd.databricks.v1+cell": {
     "cellMetadata": {
      "byteLimit": 2048000,
      "rowLimit": 10000
     },
     "inputWidgets": {},
     "nuid": "242bd5b4-9193-41d5-9c71-d7e499ad1a2c",
     "showTitle": false,
     "tableResultSettingsMap": {},
     "title": ""
    }
   },
   "outputs": [
    {
     "output_type": "stream",
     "name": "stdout",
     "output_type": "stream",
     "text": [
      "+-----+----------+------+\n|idrec|   datarec|iddesp|\n+-----+----------+------+\n|    1|2020-09-12|     2|\n|    2|2020-09-11|     2|\n|    3|2020-10-05|     4|\n|    4|2020-10-02|     5|\n|    5|2020-12-06|     5|\n|    6|2020-01-09|     5|\n|    7|2020-01-05|     9|\n+-----+----------+------+\n\n"
     ]
    }
   ],
   "source": [
    "recschema = 'idrec int, datarec string, iddesp int'\n",
    "reclamacoes = spark.read.csv('/Volumes/workspace/spark_pyspark_udemy/curso_spark_pyspark_udemy/reclamacoes.csv', header=False, schema=recschema)\n",
    "reclamacoes.show()"
   ]
  },
  {
   "cell_type": "code",
   "execution_count": 0,
   "metadata": {
    "application/vnd.databricks.v1+cell": {
     "cellMetadata": {
      "byteLimit": 2048000,
      "rowLimit": 10000
     },
     "inputWidgets": {},
     "nuid": "9957b3b9-a9ee-4ab4-9cac-cd7035dc5f73",
     "showTitle": false,
     "tableResultSettingsMap": {},
     "title": ""
    }
   },
   "outputs": [
    {
     "output_type": "execute_result",
     "data": {
      "text/plain": [
       "DataFrame[]"
      ]
     },
     "execution_count": 8,
     "metadata": {},
     "output_type": "execute_result"
    }
   ],
   "source": [
    "spark.sql(\"use desp\")"
   ]
  },
  {
   "cell_type": "code",
   "execution_count": 0,
   "metadata": {
    "application/vnd.databricks.v1+cell": {
     "cellMetadata": {
      "byteLimit": 2048000,
      "rowLimit": 10000
     },
     "inputWidgets": {},
     "nuid": "8f582a65-e004-4406-bc33-b5587395f1bc",
     "showTitle": false,
     "tableResultSettingsMap": {},
     "title": ""
    }
   },
   "outputs": [],
   "source": [
    "reclamacoes.write.saveAsTable('reclamacoes')"
   ]
  },
  {
   "cell_type": "code",
   "execution_count": 0,
   "metadata": {
    "application/vnd.databricks.v1+cell": {
     "cellMetadata": {
      "byteLimit": 2048000,
      "rowLimit": 10000
     },
     "inputWidgets": {},
     "nuid": "56c9d99d-fa76-4c43-998b-5b8ea0af6194",
     "showTitle": false,
     "tableResultSettingsMap": {},
     "title": ""
    }
   },
   "outputs": [
    {
     "output_type": "stream",
     "name": "stdout",
     "output_type": "stream",
     "text": [
      "+-----+----------+------+-------------------+\n|idrec|   datarec|iddesp|               nome|\n+-----+----------+------+-------------------+\n|    2|2020-09-11|     2|    Deolinda Vilela|\n|    3|2020-10-05|     4|Felisbela Dornelles|\n|    6|2020-01-09|     5|     Graça Ornellas|\n|    7|2020-01-05|     9|      Uriel Queiroz|\n|    1|2020-09-12|     2|    Deolinda Vilela|\n|    5|2020-12-06|     5|     Graça Ornellas|\n|    4|2020-10-02|     5|     Graça Ornellas|\n+-----+----------+------+-------------------+\n\n"
     ]
    }
   ],
   "source": [
    "spark.sql(\"\"\"\n",
    "        select \n",
    "            reclamacoes.*, \n",
    "            despachantes.nome \n",
    "        from \n",
    "            desp.despachantes \n",
    "        inner join\n",
    "            desp.reclamacoes \n",
    "        on \n",
    "            despachantes.id = reclamacoes.iddesp\n",
    "            \"\"\").show()"
   ]
  },
  {
   "cell_type": "code",
   "execution_count": 0,
   "metadata": {
    "application/vnd.databricks.v1+cell": {
     "cellMetadata": {
      "byteLimit": 2048000,
      "rowLimit": 10000
     },
     "inputWidgets": {},
     "nuid": "389e9bd3-e528-4105-b4d0-cf2a6fe06eb6",
     "showTitle": false,
     "tableResultSettingsMap": {},
     "title": ""
    }
   },
   "outputs": [
    {
     "output_type": "stream",
     "name": "stdout",
     "output_type": "stream",
     "text": [
      "+-----+----------+------+-------------------+\n|idrec|   datarec|iddesp|               nome|\n+-----+----------+------+-------------------+\n|    3|2020-10-05|     4|Felisbela Dornelles|\n|    2|2020-09-11|     2|    Deolinda Vilela|\n|    7|2020-01-05|     9|      Uriel Queiroz|\n|    6|2020-01-09|     5|     Graça Ornellas|\n|    1|2020-09-12|     2|    Deolinda Vilela|\n|    5|2020-12-06|     5|     Graça Ornellas|\n|    4|2020-10-02|     5|     Graça Ornellas|\n+-----+----------+------+-------------------+\n\n"
     ]
    }
   ],
   "source": [
    "spark.sql(\"\"\"\n",
    "        select \n",
    "            reclamacoes.*, \n",
    "            despachantes.nome \n",
    "        from \n",
    "            desp.despachantes \n",
    "        right join\n",
    "            desp.reclamacoes \n",
    "        on \n",
    "            despachantes.id = reclamacoes.iddesp\n",
    "            \"\"\").show()"
   ]
  },
  {
   "cell_type": "code",
   "execution_count": 0,
   "metadata": {
    "application/vnd.databricks.v1+cell": {
     "cellMetadata": {
      "byteLimit": 2048000,
      "rowLimit": 10000
     },
     "inputWidgets": {},
     "nuid": "e07ba27e-50e2-4cbf-b507-c67e55ea32a4",
     "showTitle": false,
     "tableResultSettingsMap": {},
     "title": ""
    }
   },
   "outputs": [
    {
     "output_type": "stream",
     "name": "stdout",
     "output_type": "stream",
     "text": [
      "+-----+----------+------+-------------------+\n|idrec|   datarec|iddesp|               nome|\n+-----+----------+------+-------------------+\n| NULL|      NULL|  NULL|   Carminda Pestana|\n|    2|2020-09-11|     2|    Deolinda Vilela|\n| NULL|      NULL|  NULL|   Emídio Dornelles|\n|    3|2020-10-05|     4|Felisbela Dornelles|\n|    6|2020-01-09|     5|     Graça Ornellas|\n| NULL|      NULL|  NULL|   Matilde Rebouças|\n| NULL|      NULL|  NULL|    Noêmia   Orriça|\n| NULL|      NULL|  NULL|      Roque Vásquez|\n|    7|2020-01-05|     9|      Uriel Queiroz|\n| NULL|      NULL|  NULL|   Viviana Sequeira|\n|    1|2020-09-12|     2|    Deolinda Vilela|\n|    5|2020-12-06|     5|     Graça Ornellas|\n|    4|2020-10-02|     5|     Graça Ornellas|\n+-----+----------+------+-------------------+\n\n"
     ]
    }
   ],
   "source": [
    "spark.sql(\"\"\"\n",
    "        select \n",
    "            reclamacoes.*, \n",
    "            despachantes.nome \n",
    "        from \n",
    "            desp.despachantes \n",
    "        left join\n",
    "            desp.reclamacoes \n",
    "        on \n",
    "            despachantes.id = reclamacoes.iddesp\n",
    "            \"\"\").show()"
   ]
  },
  {
   "cell_type": "code",
   "execution_count": 0,
   "metadata": {
    "application/vnd.databricks.v1+cell": {
     "cellMetadata": {
      "byteLimit": 2048000,
      "rowLimit": 10000
     },
     "inputWidgets": {},
     "nuid": "588fd20b-d667-46d4-823e-7de7f8f9056c",
     "showTitle": false,
     "tableResultSettingsMap": {},
     "title": ""
    }
   },
   "outputs": [
    {
     "output_type": "stream",
     "name": "stdout",
     "output_type": "stream",
     "text": [
      "+---+-------------------+------+-------------+------+----------+\n| id|               nome|status|       cidade|vendas|      data|\n+---+-------------------+------+-------------+------+----------+\n|  1|   Carminda Pestana| Ativo|  Santa Maria|    23|2020-08-11|\n|  2|    Deolinda Vilela| Ativo|Novo Hamburgo|    34|2020-03-05|\n|  3|   Emídio Dornelles| Ativo| Porto Alegre|    34|2020-02-05|\n|  4|Felisbela Dornelles| Ativo| Porto Alegre|    36|2020-02-05|\n|  5|     Graça Ornellas| Ativo| Porto Alegre|    12|2020-02-05|\n|  6|   Matilde Rebouças| Ativo| Porto Alegre|    22|2019-01-05|\n|  7|    Noêmia   Orriça| Ativo|  Santa Maria|    45|2019-10-05|\n|  8|      Roque Vásquez| Ativo| Porto Alegre|    65|2020-03-05|\n|  9|      Uriel Queiroz| Ativo| Porto Alegre|    54|2018-05-05|\n| 10|   Viviana Sequeira| Ativo| Porto Alegre|     0|2020-09-05|\n+---+-------------------+------+-------------+------+----------+\n\n"
     ]
    }
   ],
   "source": [
    "# /Workspace/Users/robson.rogerio@gmail.com/despachantes.csv\n",
    "\n",
    "despschema = 'id int, nome string, status string, cidade string, vendas int, data string'\n",
    "despachantes = spark.read.csv('/Volumes/workspace/spark_pyspark_udemy/curso_spark_pyspark_udemy/despachantes.csv', schema=despschema)\n",
    "despachantes.show()"
   ]
  },
  {
   "cell_type": "code",
   "execution_count": 0,
   "metadata": {
    "application/vnd.databricks.v1+cell": {
     "cellMetadata": {
      "byteLimit": 2048000,
      "rowLimit": 10000
     },
     "inputWidgets": {},
     "nuid": "913f4ff1-5d5b-4592-ae2f-5597719776f2",
     "showTitle": false,
     "tableResultSettingsMap": {},
     "title": ""
    }
   },
   "outputs": [
    {
     "output_type": "stream",
     "name": "stdout",
     "output_type": "stream",
     "text": [
      "+---+-------------------+------+-------------+------+----------+-----+----------+------+\n| id|               nome|status|       cidade|vendas|      data|idrec|   datarec|iddesp|\n+---+-------------------+------+-------------+------+----------+-----+----------+------+\n|  4|Felisbela Dornelles| Ativo| Porto Alegre|    36|2020-02-05|    3|2020-10-05|     4|\n|  2|    Deolinda Vilela| Ativo|Novo Hamburgo|    34|2020-03-05|    2|2020-09-11|     2|\n|  9|      Uriel Queiroz| Ativo| Porto Alegre|    54|2018-05-05|    7|2020-01-05|     9|\n|  5|     Graça Ornellas| Ativo| Porto Alegre|    12|2020-02-05|    6|2020-01-09|     5|\n|  2|    Deolinda Vilela| Ativo|Novo Hamburgo|    34|2020-03-05|    1|2020-09-12|     2|\n|  5|     Graça Ornellas| Ativo| Porto Alegre|    12|2020-02-05|    5|2020-12-06|     5|\n|  5|     Graça Ornellas| Ativo| Porto Alegre|    12|2020-02-05|    4|2020-10-02|     5|\n+---+-------------------+------+-------------+------+----------+-----+----------+------+\n\n"
     ]
    }
   ],
   "source": [
    "despachantes.join(reclamacoes, despachantes.id == reclamacoes.iddesp, 'right').show()"
   ]
  },
  {
   "cell_type": "code",
   "execution_count": 0,
   "metadata": {
    "application/vnd.databricks.v1+cell": {
     "cellMetadata": {
      "byteLimit": 2048000,
      "rowLimit": 10000
     },
     "inputWidgets": {},
     "nuid": "6323b3ac-533f-4eb4-a170-ae73bdd19e13",
     "showTitle": false,
     "tableResultSettingsMap": {},
     "title": ""
    }
   },
   "outputs": [
    {
     "output_type": "stream",
     "name": "stdout",
     "output_type": "stream",
     "text": [
      "+-----+----------+------+-------------------+\n|idrec|   datarec|iddesp|               nome|\n+-----+----------+------+-------------------+\n| NULL|      NULL|  NULL|   Carminda Pestana|\n|    2|2020-09-11|     2|    Deolinda Vilela|\n| NULL|      NULL|  NULL|   Emídio Dornelles|\n|    3|2020-10-05|     4|Felisbela Dornelles|\n|    6|2020-01-09|     5|     Graça Ornellas|\n| NULL|      NULL|  NULL|   Matilde Rebouças|\n| NULL|      NULL|  NULL|    Noêmia   Orriça|\n| NULL|      NULL|  NULL|      Roque Vásquez|\n|    7|2020-01-05|     9|      Uriel Queiroz|\n| NULL|      NULL|  NULL|   Viviana Sequeira|\n|    1|2020-09-12|     2|    Deolinda Vilela|\n|    5|2020-12-06|     5|     Graça Ornellas|\n|    4|2020-10-02|     5|     Graça Ornellas|\n+-----+----------+------+-------------------+\n\n"
     ]
    }
   ],
   "source": [
    "despachantes.join(reclamacoes, despachantes.id == reclamacoes.iddesp, 'left').select(\"idrec\", \"datarec\", \"iddesp\", \"nome\").show()"
   ]
  }
 ],
 "metadata": {
  "application/vnd.databricks.v1+notebook": {
   "computePreferences": null,
   "dashboards": [],
   "environmentMetadata": {
    "base_environment": "",
    "environment_version": "2"
   },
   "inputWidgetPreferences": null,
   "language": "python",
   "notebookMetadata": {
    "pythonIndentUnit": 4
   },
   "notebookName": "10 - Joins",
   "widgets": {}
  },
  "language_info": {
   "name": "python"
  }
 },
 "nbformat": 4,
 "nbformat_minor": 0
}