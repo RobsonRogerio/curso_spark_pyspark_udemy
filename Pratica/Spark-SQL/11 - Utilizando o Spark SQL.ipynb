{
 "cells": [
  {
   "cell_type": "code",
   "execution_count": 1,
   "metadata": {
    "application/vnd.databricks.v1+cell": {
     "cellMetadata": {
      "byteLimit": 2048000,
      "implicitDf": true,
      "rowLimit": 10000
     },
     "inputWidgets": {},
     "nuid": "367dc672-429f-4ee7-9f7e-55c2de686047",
     "showTitle": false,
     "tableResultSettingsMap": {},
     "title": ""
    }
   },
   "outputs": [
    {
     "ename": "SyntaxError",
     "evalue": "invalid syntax (1204614925.py, line 3)",
     "output_type": "error",
     "traceback": [
      "  \u001b[36mCell\u001b[39m\u001b[36m \u001b[39m\u001b[32mIn[1]\u001b[39m\u001b[32m, line 3\u001b[39m\n\u001b[31m    \u001b[39m\u001b[31mshow databases\u001b[39m\n         ^\n\u001b[31mSyntaxError\u001b[39m\u001b[31m:\u001b[39m invalid syntax\n"
     ]
    }
   ],
   "source": [
    "%sql\n",
    "\n",
    "show databases"
   ]
  },
  {
   "cell_type": "code",
   "execution_count": 0,
   "metadata": {
    "application/vnd.databricks.v1+cell": {
     "cellMetadata": {
      "byteLimit": 2048000,
      "implicitDf": true,
      "rowLimit": 10000
     },
     "inputWidgets": {},
     "nuid": "7a728cf1-4e9a-4b69-9edc-9ea556fc5031",
     "showTitle": false,
     "tableResultSettingsMap": {},
     "title": ""
    }
   },
   "outputs": [],
   "source": [
    "%sql\n",
    "use desp"
   ]
  },
  {
   "cell_type": "code",
   "execution_count": 0,
   "metadata": {
    "application/vnd.databricks.v1+cell": {
     "cellMetadata": {
      "byteLimit": 2048000,
      "implicitDf": true,
      "rowLimit": 10000
     },
     "inputWidgets": {},
     "nuid": "45ba0fea-6b04-46f8-9814-3301aa93c030",
     "showTitle": false,
     "tableResultSettingsMap": {},
     "title": ""
    }
   },
   "outputs": [
    {
     "data": {
      "text/html": [
       "<style scoped>\n",
       "  .table-result-container {\n",
       "    max-height: 300px;\n",
       "    overflow: auto;\n",
       "  }\n",
       "  table, th, td {\n",
       "    border: 1px solid black;\n",
       "    border-collapse: collapse;\n",
       "  }\n",
       "  th, td {\n",
       "    padding: 5px;\n",
       "  }\n",
       "  th {\n",
       "    text-align: left;\n",
       "  }\n",
       "</style><div class='table-result-container'><table class='table-result'><thead style='background-color: white'><tr><th>database</th><th>tableName</th><th>isTemporary</th></tr></thead><tbody><tr><td>desp</td><td>despachantes</td><td>false</td></tr><tr><td>desp</td><td>reclamacoes</td><td>false</td></tr><tr><td></td><td>_sqldf</td><td>true</td></tr></tbody></table></div>"
      ]
     },
     "metadata": {
      "application/vnd.databricks.v1+output": {
       "addedWidgets": {},
       "aggData": [],
       "aggError": "",
       "aggOverflow": false,
       "aggSchema": [],
       "aggSeriesLimitReached": false,
       "aggType": "",
       "arguments": {},
       "columnCustomDisplayInfos": {},
       "data": [
        [
         "desp",
         "despachantes",
         false
        ],
        [
         "desp",
         "reclamacoes",
         false
        ],
        [
         "",
         "_sqldf",
         true
        ]
       ],
       "datasetInfos": [
        {
         "name": "_sqldf",
         "schema": {
          "fields": [
           {
            "metadata": {},
            "name": "database",
            "nullable": false,
            "type": "string"
           },
           {
            "metadata": {},
            "name": "tableName",
            "nullable": false,
            "type": "string"
           },
           {
            "metadata": {},
            "name": "isTemporary",
            "nullable": false,
            "type": "boolean"
           }
          ],
          "type": "struct"
         },
         "tableIdentifier": null,
         "typeStr": "pyspark.sql.connect.dataframe.DataFrame"
        }
       ],
       "dbfsResultPath": null,
       "isJsonSchema": true,
       "metadata": {
        "createTempViewForImplicitDf": true,
        "dataframeName": "_sqldf",
        "executionCount": 5
       },
       "overflow": false,
       "plotOptions": {
        "customPlotOptions": {},
        "displayType": "table",
        "pivotAggregation": null,
        "pivotColumns": null,
        "xColumns": null,
        "yColumns": null
       },
       "removedWidgets": [],
       "schema": [
        {
         "metadata": "{}",
         "name": "database",
         "type": "\"string\""
        },
        {
         "metadata": "{}",
         "name": "tableName",
         "type": "\"string\""
        },
        {
         "metadata": "{}",
         "name": "isTemporary",
         "type": "\"boolean\""
        }
       ],
       "type": "table"
      }
     },
     "output_type": "display_data"
    }
   ],
   "source": [
    "%sql\n",
    "\n",
    "show tables"
   ]
  },
  {
   "cell_type": "code",
   "execution_count": 0,
   "metadata": {
    "application/vnd.databricks.v1+cell": {
     "cellMetadata": {
      "byteLimit": 2048000,
      "implicitDf": true,
      "rowLimit": 10000
     },
     "inputWidgets": {},
     "nuid": "20dde427-8905-4949-837c-55eb045be443",
     "showTitle": false,
     "tableResultSettingsMap": {},
     "title": ""
    }
   },
   "outputs": [
    {
     "data": {
      "text/html": [
       "<style scoped>\n",
       "  .table-result-container {\n",
       "    max-height: 300px;\n",
       "    overflow: auto;\n",
       "  }\n",
       "  table, th, td {\n",
       "    border: 1px solid black;\n",
       "    border-collapse: collapse;\n",
       "  }\n",
       "  th, td {\n",
       "    padding: 5px;\n",
       "  }\n",
       "  th {\n",
       "    text-align: left;\n",
       "  }\n",
       "</style><div class='table-result-container'><table class='table-result'><thead style='background-color: white'><tr><th>id</th><th>nome</th><th>status</th><th>cidade</th><th>vendas</th><th>data</th></tr></thead><tbody><tr><td>1</td><td>Carminda Pestana</td><td>Ativo</td><td>Santa Maria</td><td>23</td><td>2020-08-11</td></tr><tr><td>2</td><td>Deolinda Vilela</td><td>Ativo</td><td>Novo Hamburgo</td><td>34</td><td>2020-03-05</td></tr><tr><td>3</td><td>Emídio Dornelles</td><td>Ativo</td><td>Porto Alegre</td><td>34</td><td>2020-02-05</td></tr><tr><td>4</td><td>Felisbela Dornelles</td><td>Ativo</td><td>Porto Alegre</td><td>36</td><td>2020-02-05</td></tr><tr><td>5</td><td>Graça Ornellas</td><td>Ativo</td><td>Porto Alegre</td><td>12</td><td>2020-02-05</td></tr><tr><td>6</td><td>Matilde Rebouças</td><td>Ativo</td><td>Porto Alegre</td><td>22</td><td>2019-01-05</td></tr><tr><td>7</td><td>Noêmia   Orriça</td><td>Ativo</td><td>Santa Maria</td><td>45</td><td>2019-10-05</td></tr><tr><td>8</td><td>Roque Vásquez</td><td>Ativo</td><td>Porto Alegre</td><td>65</td><td>2020-03-05</td></tr><tr><td>9</td><td>Uriel Queiroz</td><td>Ativo</td><td>Porto Alegre</td><td>54</td><td>2018-05-05</td></tr><tr><td>10</td><td>Viviana Sequeira</td><td>Ativo</td><td>Porto Alegre</td><td>0</td><td>2020-09-05</td></tr></tbody></table></div>"
      ]
     },
     "metadata": {
      "application/vnd.databricks.v1+output": {
       "addedWidgets": {},
       "aggData": [],
       "aggError": "",
       "aggOverflow": false,
       "aggSchema": [],
       "aggSeriesLimitReached": false,
       "aggType": "",
       "arguments": {},
       "columnCustomDisplayInfos": {},
       "data": [
        [
         1,
         "Carminda Pestana",
         "Ativo",
         "Santa Maria",
         23,
         "2020-08-11"
        ],
        [
         2,
         "Deolinda Vilela",
         "Ativo",
         "Novo Hamburgo",
         34,
         "2020-03-05"
        ],
        [
         3,
         "Emídio Dornelles",
         "Ativo",
         "Porto Alegre",
         34,
         "2020-02-05"
        ],
        [
         4,
         "Felisbela Dornelles",
         "Ativo",
         "Porto Alegre",
         36,
         "2020-02-05"
        ],
        [
         5,
         "Graça Ornellas",
         "Ativo",
         "Porto Alegre",
         12,
         "2020-02-05"
        ],
        [
         6,
         "Matilde Rebouças",
         "Ativo",
         "Porto Alegre",
         22,
         "2019-01-05"
        ],
        [
         7,
         "Noêmia   Orriça",
         "Ativo",
         "Santa Maria",
         45,
         "2019-10-05"
        ],
        [
         8,
         "Roque Vásquez",
         "Ativo",
         "Porto Alegre",
         65,
         "2020-03-05"
        ],
        [
         9,
         "Uriel Queiroz",
         "Ativo",
         "Porto Alegre",
         54,
         "2018-05-05"
        ],
        [
         10,
         "Viviana Sequeira",
         "Ativo",
         "Porto Alegre",
         0,
         "2020-09-05"
        ]
       ],
       "datasetInfos": [
        {
         "name": "_sqldf",
         "schema": {
          "fields": [
           {
            "metadata": {},
            "name": "id",
            "nullable": true,
            "type": "integer"
           },
           {
            "metadata": {},
            "name": "nome",
            "nullable": true,
            "type": "string"
           },
           {
            "metadata": {},
            "name": "status",
            "nullable": true,
            "type": "string"
           },
           {
            "metadata": {},
            "name": "cidade",
            "nullable": true,
            "type": "string"
           },
           {
            "metadata": {},
            "name": "vendas",
            "nullable": true,
            "type": "integer"
           },
           {
            "metadata": {},
            "name": "data",
            "nullable": true,
            "type": "string"
           }
          ],
          "type": "struct"
         },
         "tableIdentifier": null,
         "typeStr": "pyspark.sql.connect.dataframe.DataFrame"
        }
       ],
       "dbfsResultPath": null,
       "isJsonSchema": true,
       "metadata": {
        "createTempViewForImplicitDf": true,
        "dataframeName": "_sqldf",
        "executionCount": 6
       },
       "overflow": false,
       "plotOptions": {
        "customPlotOptions": {},
        "displayType": "table",
        "pivotAggregation": null,
        "pivotColumns": null,
        "xColumns": null,
        "yColumns": null
       },
       "removedWidgets": [],
       "schema": [
        {
         "metadata": "{}",
         "name": "id",
         "type": "\"integer\""
        },
        {
         "metadata": "{}",
         "name": "nome",
         "type": "\"string\""
        },
        {
         "metadata": "{}",
         "name": "status",
         "type": "\"string\""
        },
        {
         "metadata": "{}",
         "name": "cidade",
         "type": "\"string\""
        },
        {
         "metadata": "{}",
         "name": "vendas",
         "type": "\"integer\""
        },
        {
         "metadata": "{}",
         "name": "data",
         "type": "\"string\""
        }
       ],
       "type": "table"
      }
     },
     "output_type": "display_data"
    }
   ],
   "source": [
    "%sql\n",
    "\n",
    "select * from despachantes"
   ]
  },
  {
   "cell_type": "code",
   "execution_count": 0,
   "metadata": {
    "application/vnd.databricks.v1+cell": {
     "cellMetadata": {
      "byteLimit": 2048000,
      "implicitDf": true,
      "rowLimit": 10000
     },
     "inputWidgets": {},
     "nuid": "4672cf49-70be-4363-b791-0fc79d4a4bbf",
     "showTitle": false,
     "tableResultSettingsMap": {},
     "title": ""
    }
   },
   "outputs": [
    {
     "data": {
      "text/html": [
       "<style scoped>\n",
       "  .table-result-container {\n",
       "    max-height: 300px;\n",
       "    overflow: auto;\n",
       "  }\n",
       "  table, th, td {\n",
       "    border: 1px solid black;\n",
       "    border-collapse: collapse;\n",
       "  }\n",
       "  th, td {\n",
       "    padding: 5px;\n",
       "  }\n",
       "  th {\n",
       "    text-align: left;\n",
       "  }\n",
       "</style><div class='table-result-container'><table class='table-result'><thead style='background-color: white'><tr><th>nome</th><th>vendas</th></tr></thead><tbody><tr><td>Carminda Pestana</td><td>23</td></tr><tr><td>Deolinda Vilela</td><td>34</td></tr><tr><td>Emídio Dornelles</td><td>34</td></tr><tr><td>Felisbela Dornelles</td><td>36</td></tr><tr><td>Graça Ornellas</td><td>12</td></tr><tr><td>Matilde Rebouças</td><td>22</td></tr><tr><td>Noêmia   Orriça</td><td>45</td></tr><tr><td>Roque Vásquez</td><td>65</td></tr><tr><td>Uriel Queiroz</td><td>54</td></tr><tr><td>Viviana Sequeira</td><td>0</td></tr></tbody></table></div>"
      ]
     },
     "metadata": {
      "application/vnd.databricks.v1+output": {
       "addedWidgets": {},
       "aggData": [],
       "aggError": "",
       "aggOverflow": false,
       "aggSchema": [],
       "aggSeriesLimitReached": false,
       "aggType": "",
       "arguments": {},
       "columnCustomDisplayInfos": {},
       "data": [
        [
         "Carminda Pestana",
         23
        ],
        [
         "Deolinda Vilela",
         34
        ],
        [
         "Emídio Dornelles",
         34
        ],
        [
         "Felisbela Dornelles",
         36
        ],
        [
         "Graça Ornellas",
         12
        ],
        [
         "Matilde Rebouças",
         22
        ],
        [
         "Noêmia   Orriça",
         45
        ],
        [
         "Roque Vásquez",
         65
        ],
        [
         "Uriel Queiroz",
         54
        ],
        [
         "Viviana Sequeira",
         0
        ]
       ],
       "datasetInfos": [
        {
         "name": "_sqldf",
         "schema": {
          "fields": [
           {
            "metadata": {},
            "name": "nome",
            "nullable": true,
            "type": "string"
           },
           {
            "metadata": {},
            "name": "vendas",
            "nullable": true,
            "type": "integer"
           }
          ],
          "type": "struct"
         },
         "tableIdentifier": null,
         "typeStr": "pyspark.sql.connect.dataframe.DataFrame"
        }
       ],
       "dbfsResultPath": null,
       "isJsonSchema": true,
       "metadata": {
        "createTempViewForImplicitDf": true,
        "dataframeName": "_sqldf",
        "executionCount": 7
       },
       "overflow": false,
       "plotOptions": {
        "customPlotOptions": {},
        "displayType": "table",
        "pivotAggregation": null,
        "pivotColumns": null,
        "xColumns": null,
        "yColumns": null
       },
       "removedWidgets": [],
       "schema": [
        {
         "metadata": "{}",
         "name": "nome",
         "type": "\"string\""
        },
        {
         "metadata": "{}",
         "name": "vendas",
         "type": "\"integer\""
        }
       ],
       "type": "table"
      }
     },
     "output_type": "display_data"
    }
   ],
   "source": [
    "%sql\n",
    "select nome, vendas from despachantes"
   ]
  },
  {
   "cell_type": "code",
   "execution_count": 0,
   "metadata": {
    "application/vnd.databricks.v1+cell": {
     "cellMetadata": {
      "byteLimit": 2048000,
      "implicitDf": true,
      "rowLimit": 10000
     },
     "inputWidgets": {},
     "nuid": "716302cb-2a46-42db-aeae-41c5d491ce60",
     "showTitle": false,
     "tableResultSettingsMap": {},
     "title": ""
    }
   },
   "outputs": [
    {
     "data": {
      "text/html": [
       "<style scoped>\n",
       "  .table-result-container {\n",
       "    max-height: 300px;\n",
       "    overflow: auto;\n",
       "  }\n",
       "  table, th, td {\n",
       "    border: 1px solid black;\n",
       "    border-collapse: collapse;\n",
       "  }\n",
       "  th, td {\n",
       "    padding: 5px;\n",
       "  }\n",
       "  th {\n",
       "    text-align: left;\n",
       "  }\n",
       "</style><div class='table-result-container'><table class='table-result'><thead style='background-color: white'><tr><th>cidade</th><th>sum(vendas)</th></tr></thead><tbody><tr><td>Porto Alegre</td><td>223</td></tr><tr><td>Santa Maria</td><td>68</td></tr><tr><td>Novo Hamburgo</td><td>34</td></tr></tbody></table></div>"
      ]
     },
     "metadata": {
      "application/vnd.databricks.v1+output": {
       "addedWidgets": {},
       "aggData": [],
       "aggError": "",
       "aggOverflow": false,
       "aggSchema": [],
       "aggSeriesLimitReached": false,
       "aggType": "",
       "arguments": {},
       "columnCustomDisplayInfos": {},
       "data": [
        [
         "Porto Alegre",
         223
        ],
        [
         "Santa Maria",
         68
        ],
        [
         "Novo Hamburgo",
         34
        ]
       ],
       "datasetInfos": [
        {
         "name": "_sqldf",
         "schema": {
          "fields": [
           {
            "metadata": {},
            "name": "cidade",
            "nullable": true,
            "type": "string"
           },
           {
            "metadata": {},
            "name": "sum(vendas)",
            "nullable": true,
            "type": "long"
           }
          ],
          "type": "struct"
         },
         "tableIdentifier": null,
         "typeStr": "pyspark.sql.connect.dataframe.DataFrame"
        }
       ],
       "dbfsResultPath": null,
       "isJsonSchema": true,
       "metadata": {
        "createTempViewForImplicitDf": true,
        "dataframeName": "_sqldf",
        "executionCount": 8
       },
       "overflow": false,
       "plotOptions": {
        "customPlotOptions": {},
        "displayType": "table",
        "pivotAggregation": null,
        "pivotColumns": null,
        "xColumns": null,
        "yColumns": null
       },
       "removedWidgets": [],
       "schema": [
        {
         "metadata": "{}",
         "name": "cidade",
         "type": "\"string\""
        },
        {
         "metadata": "{}",
         "name": "sum(vendas)",
         "type": "\"long\""
        }
       ],
       "type": "table"
      }
     },
     "output_type": "display_data"
    }
   ],
   "source": [
    "%sql\n",
    "\n",
    "select cidade, sum(vendas) from despachantes group by cidade order by 2 desc;\n",
    "\n"
   ]
  },
  {
   "cell_type": "code",
   "execution_count": 0,
   "metadata": {
    "application/vnd.databricks.v1+cell": {
     "cellMetadata": {
      "byteLimit": 2048000,
      "implicitDf": true,
      "rowLimit": 10000
     },
     "inputWidgets": {},
     "nuid": "8faa9b0f-d8a8-4b6e-8206-31e32623001b",
     "showTitle": false,
     "tableResultSettingsMap": {},
     "title": ""
    }
   },
   "outputs": [
    {
     "data": {
      "text/html": [
       "<style scoped>\n",
       "  .table-result-container {\n",
       "    max-height: 300px;\n",
       "    overflow: auto;\n",
       "  }\n",
       "  table, th, td {\n",
       "    border: 1px solid black;\n",
       "    border-collapse: collapse;\n",
       "  }\n",
       "  th, td {\n",
       "    padding: 5px;\n",
       "  }\n",
       "  th {\n",
       "    text-align: left;\n",
       "  }\n",
       "</style><div class='table-result-container'><table class='table-result'><thead style='background-color: white'><tr><th>idrec</th><th>datarec</th><th>iddesp</th><th>nome</th></tr></thead><tbody><tr><td>2</td><td>2020-09-11</td><td>2</td><td>Deolinda Vilela</td></tr><tr><td>3</td><td>2020-10-05</td><td>4</td><td>Felisbela Dornelles</td></tr><tr><td>6</td><td>2020-01-09</td><td>5</td><td>Graça Ornellas</td></tr><tr><td>7</td><td>2020-01-05</td><td>9</td><td>Uriel Queiroz</td></tr><tr><td>1</td><td>2020-09-12</td><td>2</td><td>Deolinda Vilela</td></tr><tr><td>5</td><td>2020-12-06</td><td>5</td><td>Graça Ornellas</td></tr><tr><td>4</td><td>2020-10-02</td><td>5</td><td>Graça Ornellas</td></tr></tbody></table></div>"
      ]
     },
     "metadata": {
      "application/vnd.databricks.v1+output": {
       "addedWidgets": {},
       "aggData": [],
       "aggError": "",
       "aggOverflow": false,
       "aggSchema": [],
       "aggSeriesLimitReached": false,
       "aggType": "",
       "arguments": {},
       "columnCustomDisplayInfos": {},
       "data": [
        [
         2,
         "2020-09-11",
         2,
         "Deolinda Vilela"
        ],
        [
         3,
         "2020-10-05",
         4,
         "Felisbela Dornelles"
        ],
        [
         6,
         "2020-01-09",
         5,
         "Graça Ornellas"
        ],
        [
         7,
         "2020-01-05",
         9,
         "Uriel Queiroz"
        ],
        [
         1,
         "2020-09-12",
         2,
         "Deolinda Vilela"
        ],
        [
         5,
         "2020-12-06",
         5,
         "Graça Ornellas"
        ],
        [
         4,
         "2020-10-02",
         5,
         "Graça Ornellas"
        ]
       ],
       "datasetInfos": [
        {
         "name": "_sqldf",
         "schema": {
          "fields": [
           {
            "metadata": {},
            "name": "idrec",
            "nullable": true,
            "type": "integer"
           },
           {
            "metadata": {},
            "name": "datarec",
            "nullable": true,
            "type": "string"
           },
           {
            "metadata": {},
            "name": "iddesp",
            "nullable": true,
            "type": "integer"
           },
           {
            "metadata": {},
            "name": "nome",
            "nullable": true,
            "type": "string"
           }
          ],
          "type": "struct"
         },
         "tableIdentifier": null,
         "typeStr": "pyspark.sql.connect.dataframe.DataFrame"
        }
       ],
       "dbfsResultPath": null,
       "isJsonSchema": true,
       "metadata": {
        "createTempViewForImplicitDf": true,
        "dataframeName": "_sqldf",
        "executionCount": 10
       },
       "overflow": false,
       "plotOptions": {
        "customPlotOptions": {},
        "displayType": "table",
        "pivotAggregation": null,
        "pivotColumns": null,
        "xColumns": null,
        "yColumns": null
       },
       "removedWidgets": [],
       "schema": [
        {
         "metadata": "{}",
         "name": "idrec",
         "type": "\"integer\""
        },
        {
         "metadata": "{}",
         "name": "datarec",
         "type": "\"string\""
        },
        {
         "metadata": "{}",
         "name": "iddesp",
         "type": "\"integer\""
        },
        {
         "metadata": "{}",
         "name": "nome",
         "type": "\"string\""
        }
       ],
       "type": "table"
      }
     },
     "output_type": "display_data"
    }
   ],
   "source": [
    "%sql\n",
    "select reclamacoes.*, despachantes.nome from despachantes inner join reclamacoes on despachantes.id = reclamacoes.iddesp"
   ]
  }
 ],
 "metadata": {
  "application/vnd.databricks.v1+notebook": {
   "computePreferences": null,
   "dashboards": [],
   "environmentMetadata": {
    "base_environment": "",
    "environment_version": "2"
   },
   "inputWidgetPreferences": null,
   "language": "python",
   "notebookMetadata": {
    "mostRecentlyExecutedCommandWithImplicitDF": {
     "commandId": 8873282416645259,
     "dataframes": [
      "_sqldf"
     ]
    },
    "pythonIndentUnit": 4
   },
   "notebookName": "11 - Utilizando o Spark SQL",
   "widgets": {}
  },
  "kernelspec": {
   "display_name": "spark",
   "language": "python",
   "name": "python3"
  },
  "language_info": {
   "codemirror_mode": {
    "name": "ipython",
    "version": 3
   },
   "file_extension": ".py",
   "mimetype": "text/x-python",
   "name": "python",
   "nbconvert_exporter": "python",
   "pygments_lexer": "ipython3",
   "version": "3.12.3"
  }
 },
 "nbformat": 4,
 "nbformat_minor": 0
}
