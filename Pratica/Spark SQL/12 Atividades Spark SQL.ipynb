{
 "cells": [
  {
   "cell_type": "code",
   "execution_count": 0,
   "metadata": {
    "application/vnd.databricks.v1+cell": {
     "cellMetadata": {
      "byteLimit": 2048000,
      "rowLimit": 10000
     },
     "collapsed": true,
     "inputWidgets": {},
     "nuid": "70906460-469d-42ba-8315-6c18c96387bc",
     "showTitle": false,
     "tableResultSettingsMap": {},
     "title": ""
    }
   },
   "outputs": [
    {
     "output_type": "stream",
     "name": "stdout",
     "output_type": "stream",
     "text": [
      "+-------------------+\n|       databaseName|\n+-------------------+\n|            default|\n|               desp|\n| information_schema|\n|spark_pyspark_udemy|\n|       vendasvarejo|\n+-------------------+\n\n"
     ]
    }
   ],
   "source": [
    "spark.sql(\"show databases\").show()"
   ]
  },
  {
   "cell_type": "code",
   "execution_count": 0,
   "metadata": {
    "application/vnd.databricks.v1+cell": {
     "cellMetadata": {
      "byteLimit": 2048000,
      "rowLimit": 10000
     },
     "inputWidgets": {},
     "nuid": "4be55dc9-0e8a-491d-96df-71d5e9fe8379",
     "showTitle": false,
     "tableResultSettingsMap": {},
     "title": ""
    }
   },
   "outputs": [
    {
     "output_type": "execute_result",
     "data": {
      "text/plain": [
       "DataFrame[]"
      ]
     },
     "execution_count": 5,
     "metadata": {},
     "output_type": "execute_result"
    }
   ],
   "source": [
    "spark.sql(\"create database if not exists vendasvarejo\")"
   ]
  },
  {
   "cell_type": "code",
   "execution_count": 0,
   "metadata": {
    "application/vnd.databricks.v1+cell": {
     "cellMetadata": {
      "byteLimit": 2048000,
      "rowLimit": 10000
     },
     "inputWidgets": {},
     "nuid": "59e5fa68-6f86-414f-a643-69f51534c328",
     "showTitle": false,
     "tableResultSettingsMap": {},
     "title": ""
    }
   },
   "outputs": [
    {
     "output_type": "execute_result",
     "data": {
      "text/plain": [
       "DataFrame[]"
      ]
     },
     "execution_count": 10,
     "metadata": {},
     "output_type": "execute_result"
    }
   ],
   "source": [
    "spark.sql(\"use vendasvarejo\")"
   ]
  },
  {
   "cell_type": "code",
   "execution_count": 0,
   "metadata": {
    "application/vnd.databricks.v1+cell": {
     "cellMetadata": {
      "byteLimit": 2048000,
      "rowLimit": 10000
     },
     "collapsed": true,
     "inputWidgets": {},
     "nuid": "49d9fc7b-4b6c-421d-8e56-68cfb10e55c5",
     "showTitle": false,
     "tableResultSettingsMap": {},
     "title": ""
    }
   },
   "outputs": [
    {
     "output_type": "stream",
     "name": "stdout",
     "output_type": "stream",
     "text": [
      "+---------+--------------------+------+------+--------+\n|ClienteID|             Cliente|Estado|Genero|  Status|\n+---------+--------------------+------+------+--------+\n|        1|Adelina Buenaventura|    RJ|     M|  Silver|\n|        2|        Adelino Gago|    RJ|     M|  Silver|\n|        3|     Adolfo Patrício|    PE|     M|  Silver|\n|        4|    Adriana Guedelha|    RO|     F|Platinum|\n|        5|       Adélio Lisboa|    SE|     M|  Silver|\n|        6|       Adérito Bahía|    MA|     M|  Silver|\n|        7|       Aida Dorneles|    RN|     F|  Silver|\n|        8|   Alarico Quinterno|    AC|     M|  Silver|\n|        9|    Alberto Cezimbra|    AM|     M|  Silver|\n|       10|    Alberto Monsanto|    RN|     M|    Gold|\n|       11|       Albino Canela|    AC|     M|  Silver|\n|       12|     Alceste Varanda|    RR|     F|  Silver|\n|       13|  Alcides Carvalhais|    RO|     M|  Silver|\n|       14|        Aldo Martins|    GO|     M|  Silver|\n|       15|   Alexandra Tabares|    MG|     F|  Silver|\n|       16|      Alfredo Cotrim|    SC|     M|  Silver|\n|       17|     Almeno Figueira|    SC|     M|  Silver|\n|       18|      Alvito Peralta|    AM|     M|  Silver|\n|       19|     Amadeu Martinho|    RN|     M|  Silver|\n|       20|      Amélia Estévez|    PE|     F|  Silver|\n+---------+--------------------+------+------+--------+\nonly showing top 20 rows\n"
     ]
    }
   ],
   "source": [
    "clientes = spark.read.parquet('/Volumes/workspace/spark_pyspark_udemy/curso_spark_pyspark_udemy/atividades/Clientes.parquet')\n",
    "clientes.show()\n",
    "clientes.write.saveAsTable(\"vendasvarejo.Clientes\")"
   ]
  },
  {
   "cell_type": "code",
   "execution_count": 0,
   "metadata": {
    "application/vnd.databricks.v1+cell": {
     "cellMetadata": {
      "byteLimit": 2048000,
      "rowLimit": 10000
     },
     "collapsed": true,
     "inputWidgets": {},
     "nuid": "fc06fd28-8e69-455f-896d-93fced17b9de",
     "showTitle": false,
     "tableResultSettingsMap": {},
     "title": ""
    }
   },
   "outputs": [
    {
     "output_type": "stream",
     "name": "stdout",
     "output_type": "stream",
     "text": [
      "+--------+----------+---------+---------+--------+\n|VendasID|VendedorID|ClienteID|     Data|   Total|\n+--------+----------+---------+---------+--------+\n|       1|         1|       91| 1/1/2019|  8053.6|\n|       2|         6|      185| 1/1/2020|   150.4|\n|       3|         7|       31| 2/1/2020|  6087.0|\n|       4|         5|       31| 2/1/2019| 13828.6|\n|       5|         5|       31| 3/1/2018|26096.66|\n|       6|         5|       31| 4/1/2020| 18402.0|\n|       7|         5|       31| 6/1/2019|  7524.2|\n|       8|         5|      186| 6/1/2019| 12036.6|\n|       9|         7|       91| 6/1/2020| 2804.75|\n|      10|         2|      202| 6/1/2020|  8852.0|\n|      11|         7|       58| 8/1/2019|16545.25|\n|      12|         7|       58| 9/1/2018|11411.88|\n|      13|         7|       58|10/1/2019| 15829.7|\n|      14|         3|      249|12/1/2020| 6154.36|\n|      15|         4|      249|12/1/2018| 3255.08|\n|      16|         7|      192|13/1/2020| 2901.25|\n|      17|         2|       79|13/1/2019| 15829.7|\n|      18|        10|       79|14/1/2019|16996.36|\n|      19|        10|      191|14/1/2019|   155.0|\n|      20|         9|      218|15/1/2018|  131.75|\n+--------+----------+---------+---------+--------+\nonly showing top 20 rows\n"
     ]
    }
   ],
   "source": [
    "vendas = spark.read.parquet('/Volumes/workspace/spark_pyspark_udemy/curso_spark_pyspark_udemy/atividades/Vendas.parquet')\n",
    "vendas.show()\n",
    "vendas.write.saveAsTable(\"vendasvarejo.Vendas\")"
   ]
  },
  {
   "cell_type": "code",
   "execution_count": 0,
   "metadata": {
    "application/vnd.databricks.v1+cell": {
     "cellMetadata": {
      "byteLimit": 2048000,
      "rowLimit": 10000
     },
     "collapsed": true,
     "inputWidgets": {},
     "nuid": "640c606d-6577-45c8-916d-81e83fb56d64",
     "showTitle": false,
     "tableResultSettingsMap": {},
     "title": ""
    }
   },
   "outputs": [
    {
     "output_type": "stream",
     "name": "stdout",
     "output_type": "stream",
     "text": [
      "+---------+--------+----------+-------------+----------+--------+----------------+\n|ProdutoID|VendasID|Quantidade|ValorUnitario|ValorTotal|Desconto|TotalComDesconto|\n+---------+--------+----------+-------------+----------+--------+----------------+\n|        2|     400|         2|       9201.0|   18402.0| 6256,68|        12145.32|\n|        2|     385|         2|       9201.0|   18402.0| 5704,62|        12697.38|\n|        4|     395|         2|       6892.2|   13784.4| 5100,23|         8684.17|\n|        4|     367|         2|       6509.3|   13018.6| 4816,88|         8201.72|\n|        2|     380|         2|      7038.77|  14077.54| 4364,04|          9713.5|\n|        2|     346|         2|       8280.9|   16561.8| 4140,45|        12421.35|\n|        2|     339|         2|       8280.9|   16561.8| 3312,36|        13249.44|\n|        2|     397|         1|       9201.0|    9201.0| 3312,36|         5888.64|\n|        1|     346|         2|       7966.8|   15933.6| 3186,72|        12746.88|\n|        2|     264|         2|       8280.9|   16561.8| 3146,74|        13415.06|\n|        4|     355|         2|      5858.37|  11716.74| 3046,35|         8670.39|\n|        2|     376|         1|       8280.9|    8280.9| 2981,12|         5299.78|\n|        2|     374|         1|       9201.0|    9201.0| 2944,32|         6256.68|\n|        1|     397|         1|       7524.2|    7524.2| 2859,20|          4665.0|\n|        2|     303|         2|       8280.9|   16561.8| 2815,51|        13746.29|\n|        4|     358|         2|       6509.3|   13018.6| 2733,91|        10284.69|\n|        4|     374|         1|       7658.0|    7658.0| 2527,14|         5130.86|\n|        3|     336|         2|       4255.0|    8510.0| 2467,90|          6042.1|\n|        1|     399|         1|      6771.78|   6771.78| 2437,84|         4333.94|\n|        1|     292|         2|      6771.78|  13543.56| 2437,84|        11105.72|\n+---------+--------+----------+-------------+----------+--------+----------------+\nonly showing top 20 rows\n"
     ]
    }
   ],
   "source": [
    "itensvendas = spark.read.parquet('/Volumes/workspace/spark_pyspark_udemy/curso_spark_pyspark_udemy/atividades/ItensVendas.parquet')\n",
    "itensvendas.show()\n",
    "itensvendas.write.saveAsTable(\"vendasvarejo.ItensVendas\")"
   ]
  },
  {
   "cell_type": "code",
   "execution_count": 0,
   "metadata": {
    "application/vnd.databricks.v1+cell": {
     "cellMetadata": {
      "byteLimit": 2048000,
      "rowLimit": 10000
     },
     "collapsed": true,
     "inputWidgets": {},
     "nuid": "b57e9a0d-f2f3-402f-a7d6-2d3e839bb16d",
     "showTitle": false,
     "tableResultSettingsMap": {},
     "title": ""
    }
   },
   "outputs": [
    {
     "output_type": "stream",
     "name": "stdout",
     "output_type": "stream",
     "text": [
      "+---------+--------------------+---------+\n|ProdutoID|             Produto|    Preco|\n+---------+--------------------+---------+\n|        1|Bicicleta Aro 29 ...|8.852,00 |\n|        2|Bicicleta Altools...|9.201,00 |\n|        3|Bicicleta Gts Adv...|4.255,00 |\n|        4|Bicicleta Trinc C...|7.658,00 |\n|        5|Bicicleta Gometws...|2.966,00 |\n|        6|Bicicleta Gometws...|2.955,00 |\n|        7|Capacete Gometws ...|  155,00 |\n|        8|Luva De Ciclismo ...|  188,00 |\n|        9|Bermuda Predactor...|  115,00 |\n|       10|Camiseta Predacto...|  135,00 |\n+---------+--------------------+---------+\n\n"
     ]
    }
   ],
   "source": [
    "produtos = spark.read.parquet('/Volumes/workspace/spark_pyspark_udemy/curso_spark_pyspark_udemy/atividades/Produtos.parquet')\n",
    "produtos.show()\n",
    "produtos.write.saveAsTable(\"vendasvarejo.Produtos\")"
   ]
  },
  {
   "cell_type": "code",
   "execution_count": 0,
   "metadata": {
    "application/vnd.databricks.v1+cell": {
     "cellMetadata": {
      "byteLimit": 2048000,
      "rowLimit": 10000
     },
     "collapsed": true,
     "inputWidgets": {},
     "nuid": "99504e25-2083-494c-9a65-5f1788cff755",
     "showTitle": false,
     "tableResultSettingsMap": {},
     "title": ""
    }
   },
   "outputs": [
    {
     "output_type": "stream",
     "name": "stdout",
     "output_type": "stream",
     "text": [
      "+----------+----------------+\n|VendedorID|        Vendedor|\n+----------+----------------+\n|         1|    Armando Lago|\n|         2|Capitolino Bahía|\n|         3|   Daniel Pirajá|\n|         4| Godo Capiperibe|\n|         5|  Hélio Liberato|\n|         6|   Iberê Lacerda|\n|         7|Jéssica Castelão|\n|         8| Napoleão Méndez|\n|         9|    Simão Rivero|\n|        10|  Tobias Furtado|\n+----------+----------------+\n\n"
     ]
    }
   ],
   "source": [
    "vendedores = spark.read.parquet('/Volumes/workspace/spark_pyspark_udemy/curso_spark_pyspark_udemy/atividades/Vendedores.parquet')\n",
    "vendedores.show()\n",
    "vendedores.write.saveAsTable(\"vendasvarejo.Vendedores\")"
   ]
  },
  {
   "cell_type": "code",
   "execution_count": 0,
   "metadata": {
    "application/vnd.databricks.v1+cell": {
     "cellMetadata": {
      "byteLimit": 2048000,
      "rowLimit": 10000
     },
     "inputWidgets": {},
     "nuid": "efe8bc86-db6e-4885-89bd-e7c56dc9f6a8",
     "showTitle": false,
     "tableResultSettingsMap": {},
     "title": ""
    }
   },
   "outputs": [
    {
     "output_type": "stream",
     "name": "stdout",
     "output_type": "stream",
     "text": [
      "+------------+-----------+-----------+\n|    database|  tableName|isTemporary|\n+------------+-----------+-----------+\n|vendasvarejo|   clientes|      false|\n|vendasvarejo|itensvendas|      false|\n|vendasvarejo|   produtos|      false|\n|vendasvarejo|     vendas|      false|\n|vendasvarejo| vendedores|      false|\n+------------+-----------+-----------+\n\n"
     ]
    }
   ],
   "source": [
    "spark.sql(\"show tables\").show()"
   ]
  },
  {
   "cell_type": "code",
   "execution_count": 0,
   "metadata": {
    "application/vnd.databricks.v1+cell": {
     "cellMetadata": {
      "byteLimit": 2048000,
      "implicitDf": true,
      "rowLimit": 10000
     },
     "inputWidgets": {},
     "nuid": "b28546aa-d862-460b-8e4c-43db071b739d",
     "showTitle": false,
     "tableResultSettingsMap": {},
     "title": ""
    }
   },
   "outputs": [
    {
     "output_type": "stream",
     "name": "stdout",
     "output_type": "stream",
     "text": [
      "+--------------------+----------+--------------------+----------------+----------+\n|             Cliente|      Data|             Produto|        Vendedor|ValorTotal|\n+--------------------+----------+--------------------+----------------+----------+\n|    Humberto Almeida|28/12/2019|Bicicleta Altools...|   Iberê Lacerda|   18402.0|\n|   Bárbara Magalhães|15/12/2020|Bicicleta Altools...|  Hélio Liberato|   18402.0|\n|        Artur Macedo|22/12/2018|Bicicleta Trinc C...|  Hélio Liberato|   13784.4|\n|    Dinarte Tabalipa| 1/12/2020|Bicicleta Trinc C...|   Daniel Pirajá|   13018.6|\n|      Humberto Lemes|12/12/2019|Bicicleta Altools...|    Simão Rivero|  14077.54|\n|    Antão Corte-Real|16/11/2018|Bicicleta Altools...|   Iberê Lacerda|   16561.8|\n|Cândido Sousa do ...|10/11/2018|Bicicleta Altools...|   Daniel Pirajá|   16561.8|\n|      Brígida Gusmão|23/12/2019|Bicicleta Altools...|  Hélio Liberato|    9201.0|\n|    Antão Corte-Real|16/11/2018|Bicicleta Aro 29 ...|   Iberê Lacerda|   15933.6|\n|   Gertrudes Rabello|  5/9/2019|Bicicleta Altools...|  Hélio Liberato|   16561.8|\n|       Adélio Lisboa|23/11/2019|Bicicleta Trinc C...|  Hélio Liberato|  11716.74|\n|   Francisca Ramallo| 9/12/2020|Bicicleta Altools...|Jéssica Castelão|    8280.9|\n|       Adélio Lisboa| 5/12/2019|Bicicleta Altools...|    Armando Lago|    9201.0|\n|      Brígida Gusmão|23/12/2019|Bicicleta Aro 29 ...|  Hélio Liberato|    7524.2|\n|    Antão Corte-Real|15/10/2020|Bicicleta Altools...|    Armando Lago|   16561.8|\n|Cândido Sousa do ...|24/11/2018|Bicicleta Trinc C...|Jéssica Castelão|   13018.6|\n|       Adélio Lisboa| 5/12/2019|Bicicleta Trinc C...|    Armando Lago|    7658.0|\n|     Adolfo Patrício| 7/11/2020|Bicicleta Gts Adv...|  Hélio Liberato|    8510.0|\n|      Brígida Gusmão|25/12/2019|Bicicleta Aro 29 ...| Godo Capiperibe|   6771.78|\n|       Adélio Lisboa| 29/9/2020|Bicicleta Aro 29 ...|Jéssica Castelão|  13543.56|\n+--------------------+----------+--------------------+----------------+----------+\nonly showing top 20 rows\n"
     ]
    }
   ],
   "source": [
    "\n",
    "spark.sql(\"\"\"\n",
    "  select \n",
    "    c.Cliente,\n",
    "    v.Data,\n",
    "    p.Produto,\n",
    "    vd.Vendedor,\n",
    "    iv.ValorTotal\n",
    "  from vendasvarejo.itensvendas iv\n",
    "\n",
    "  left join\n",
    "    vendasvarejo.vendas v\n",
    "  on\n",
    "    iv.VendasID = v.VendasID\n",
    "  left join\n",
    "    vendasvarejo.clientes c\n",
    "  on\n",
    "    v.ClienteID = c.ClienteID\n",
    "  left join\n",
    "    vendasvarejo.produtos p\n",
    "  on\n",
    "    iv.ProdutoID = p.ProdutoID\n",
    "  left join\n",
    "    vendasvarejo.vendedores vd\n",
    "  on\n",
    "    v.VendedorID = vd.VendedorID\n",
    "\"\"\").show()\n",
    "% sql"
   ]
  },
  {
   "cell_type": "code",
   "execution_count": 0,
   "metadata": {
    "application/vnd.databricks.v1+cell": {
     "cellMetadata": {
      "byteLimit": 2048000,
      "implicitDf": true,
      "rowLimit": 10000
     },
     "inputWidgets": {},
     "nuid": "7d00fcc0-396a-426b-8de4-4079626d3c08",
     "showTitle": false,
     "tableResultSettingsMap": {},
     "title": ""
    }
   },
   "outputs": [
    {
     "output_type": "display_data",
     "data": {
      "text/html": [
       "<style scoped>\n",
       "  .table-result-container {\n",
       "    max-height: 300px;\n",
       "    overflow: auto;\n",
       "  }\n",
       "  table, th, td {\n",
       "    border: 1px solid black;\n",
       "    border-collapse: collapse;\n",
       "  }\n",
       "  th, td {\n",
       "    padding: 5px;\n",
       "  }\n",
       "  th {\n",
       "    text-align: left;\n",
       "  }\n",
       "</style><div class='table-result-container'><table class='table-result'><thead style='background-color: white'><tr><th>count(*)</th></tr></thead><tbody><tr><td>940</td></tr></tbody></table></div>"
      ]
     },
     "metadata": {
      "application/vnd.databricks.v1+output": {
       "addedWidgets": {},
       "aggData": [],
       "aggError": "",
       "aggOverflow": false,
       "aggSchema": [],
       "aggSeriesLimitReached": false,
       "aggType": "",
       "arguments": {},
       "columnCustomDisplayInfos": {},
       "data": [
        [
         940
        ]
       ],
       "datasetInfos": [
        {
         "name": "_sqldf",
         "schema": {
          "fields": [
           {
            "metadata": {},
            "name": "count(*)",
            "nullable": false,
            "type": "long"
           }
          ],
          "type": "struct"
         },
         "tableIdentifier": null,
         "typeStr": "pyspark.sql.connect.dataframe.DataFrame"
        }
       ],
       "dbfsResultPath": null,
       "isJsonSchema": true,
       "metadata": {
        "createTempViewForImplicitDf": true,
        "dataframeName": "_sqldf",
        "executionCount": 18
       },
       "overflow": false,
       "plotOptions": {
        "customPlotOptions": {},
        "displayType": "table",
        "pivotAggregation": null,
        "pivotColumns": null,
        "xColumns": null,
        "yColumns": null
       },
       "removedWidgets": [],
       "schema": [
        {
         "metadata": "{}",
         "name": "count(*)",
         "type": "\"long\""
        }
       ],
       "type": "table"
      }
     },
     "output_type": "display_data"
    }
   ],
   "source": [
    "%sql\n",
    "\n",
    "select count(*) from vendasvarejo.itensvendas"
   ]
  }
 ],
 "metadata": {
  "application/vnd.databricks.v1+notebook": {
   "computePreferences": null,
   "dashboards": [],
   "environmentMetadata": {
    "base_environment": "",
    "environment_version": "2"
   },
   "inputWidgetPreferences": null,
   "language": "python",
   "notebookMetadata": {
    "mostRecentlyExecutedCommandWithImplicitDF": {
     "commandId": 8873282416645278,
     "dataframes": [
      "_sqldf"
     ]
    },
    "pythonIndentUnit": 4
   },
   "notebookName": "12 Atividades Spark SQL",
   "widgets": {}
  },
  "language_info": {
   "name": "python"
  }
 },
 "nbformat": 4,
 "nbformat_minor": 0
}