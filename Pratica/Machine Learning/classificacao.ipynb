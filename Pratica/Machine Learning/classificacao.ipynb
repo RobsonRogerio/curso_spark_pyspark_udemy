{
 "cells": [
  {
   "cell_type": "code",
   "execution_count": 1,
   "id": "f2cf6753",
   "metadata": {},
   "outputs": [
    {
     "name": "stderr",
     "output_type": "stream",
     "text": [
      "WARNING: Using incubator modules: jdk.incubator.vector\n",
      "Using Spark's default log4j profile: org/apache/spark/log4j2-defaults.properties\n",
      "25/07/28 15:40:43 WARN Utils: Your hostname, LAPTOP-CO0U45G1, resolves to a loopback address: 127.0.1.1; using 172.20.235.103 instead (on interface eth0)\n",
      "25/07/28 15:40:44 WARN Utils: Set SPARK_LOCAL_IP if you need to bind to another address\n",
      "Using Spark's default log4j profile: org/apache/spark/log4j2-defaults.properties\n",
      "Setting default log level to \"WARN\".\n",
      "To adjust logging level use sc.setLogLevel(newLevel). For SparkR, use setLogLevel(newLevel).\n",
      "25/07/28 15:41:01 WARN NativeCodeLoader: Unable to load native-hadoop library for your platform... using builtin-java classes where applicable\n"
     ]
    }
   ],
   "source": [
    "from pyspark.sql import SparkSession\n",
    "spark = SparkSession.builder.appName(\"Classificacao\").getOrCreate()"
   ]
  },
  {
   "cell_type": "code",
   "execution_count": 6,
   "id": "41abeeb3",
   "metadata": {},
   "outputs": [],
   "source": [
    "from pyspark.ml.feature import RFormula\n",
    "from pyspark.ml.classification import DecisionTreeClassifier\n",
    "from pyspark.ml.evaluation import BinaryClassificationEvaluator"
   ]
  },
  {
   "cell_type": "code",
   "execution_count": 3,
   "id": "fc9e1612",
   "metadata": {},
   "outputs": [
    {
     "name": "stderr",
     "output_type": "stream",
     "text": [
      "                                                                                \r"
     ]
    }
   ],
   "source": [
    "churn = spark.read.csv(\"/home/robson/curso_spark_pyspark_udemy/Churn.csv\", header=True, inferSchema=True, sep=\";\")"
   ]
  },
  {
   "cell_type": "code",
   "execution_count": 4,
   "id": "2fcc229f",
   "metadata": {},
   "outputs": [
    {
     "name": "stderr",
     "output_type": "stream",
     "text": [
      "                                                                                \r"
     ]
    },
    {
     "name": "stdout",
     "output_type": "stream",
     "text": [
      "+-----------+---------+------+---+------+-------+-------------+---------+--------------+---------------+------+\n",
      "|CreditScore|Geography|Gender|Age|Tenure|Balance|NumOfProducts|HasCrCard|IsActiveMember|EstimatedSalary|Exited|\n",
      "+-----------+---------+------+---+------+-------+-------------+---------+--------------+---------------+------+\n",
      "|        619|   France|Female| 42|     2|      0|            1|        1|             1|       10134888|     1|\n",
      "|        608|    Spain|Female| 41|     1|8380786|            1|        0|             1|       11254258|     0|\n",
      "|        502|   France|Female| 42|     8|1596608|            3|        1|             0|       11393157|     1|\n",
      "+-----------+---------+------+---+------+-------+-------------+---------+--------------+---------------+------+\n",
      "only showing top 3 rows\n"
     ]
    }
   ],
   "source": [
    "churn.show(3)"
   ]
  },
  {
   "cell_type": "code",
   "execution_count": 9,
   "id": "75d267e8",
   "metadata": {},
   "outputs": [],
   "source": [
    "formula = RFormula(formula=\"Exited ~ .\", featuresCol=\"features\", labelCol=\"label\", handleInvalid=\"skip\")"
   ]
  },
  {
   "cell_type": "code",
   "execution_count": 10,
   "id": "1a9bb5e0",
   "metadata": {},
   "outputs": [
    {
     "name": "stderr",
     "output_type": "stream",
     "text": [
      "                                                                                \r"
     ]
    }
   ],
   "source": [
    "churn_trans = formula.fit(churn).transform(churn).select(\"features\", \"label\")"
   ]
  },
  {
   "cell_type": "code",
   "execution_count": 11,
   "id": "7b2d0acb",
   "metadata": {},
   "outputs": [
    {
     "name": "stderr",
     "output_type": "stream",
     "text": [
      "[Stage 15:>                                                         (0 + 1) / 1]\r"
     ]
    },
    {
     "name": "stdout",
     "output_type": "stream",
     "text": [
      "+----------------------------------------------------------------+-----+\n",
      "|features                                                        |label|\n",
      "+----------------------------------------------------------------+-----+\n",
      "|[619.0,1.0,0.0,0.0,42.0,2.0,0.0,1.0,1.0,1.0,1.0134888E7]        |1.0  |\n",
      "|[608.0,0.0,0.0,0.0,41.0,1.0,8380786.0,1.0,0.0,1.0,1.1254258E7]  |0.0  |\n",
      "|[502.0,1.0,0.0,0.0,42.0,8.0,1596608.0,3.0,1.0,0.0,1.1393157E7]  |1.0  |\n",
      "|(11,[0,1,4,5,7,10],[699.0,1.0,39.0,1.0,2.0,9382663.0])          |0.0  |\n",
      "|[850.0,0.0,0.0,0.0,43.0,2.0,1.2551082E7,1.0,1.0,1.0,790841.0]   |0.0  |\n",
      "|[645.0,0.0,0.0,1.0,44.0,8.0,1.1375578E7,2.0,1.0,0.0,1.4975671E7]|1.0  |\n",
      "|[822.0,1.0,0.0,1.0,50.0,7.0,0.0,2.0,1.0,1.0,100628.0]           |0.0  |\n",
      "|[376.0,0.0,1.0,0.0,29.0,4.0,1.1504674E7,4.0,1.0,0.0,1.1934688E7]|1.0  |\n",
      "|[501.0,1.0,0.0,1.0,44.0,4.0,1.4205107E7,2.0,0.0,1.0,749405.0]   |0.0  |\n",
      "|[684.0,1.0,0.0,1.0,27.0,2.0,1.3460388E7,1.0,1.0,1.0,7172573.0]  |0.0  |\n",
      "|[528.0,1.0,0.0,1.0,31.0,6.0,1.0201672E7,2.0,0.0,0.0,8018112.0]  |0.0  |\n",
      "|[497.0,0.0,0.0,1.0,24.0,3.0,0.0,2.0,1.0,0.0,7639001.0]          |0.0  |\n",
      "|[476.0,1.0,0.0,0.0,34.0,10.0,0.0,2.0,1.0,0.0,2626098.0]         |0.0  |\n",
      "|(11,[0,1,4,5,7,10],[549.0,1.0,25.0,5.0,2.0,1.9085779E7])        |0.0  |\n",
      "|[635.0,0.0,0.0,0.0,35.0,7.0,0.0,2.0,1.0,1.0,6595165.0]          |0.0  |\n",
      "|[616.0,0.0,1.0,1.0,45.0,3.0,1.4312941E7,2.0,0.0,1.0,6432726.0]  |0.0  |\n",
      "|[653.0,0.0,1.0,1.0,58.0,1.0,1.3260288E7,1.0,1.0,0.0,509767.0]   |1.0  |\n",
      "|[549.0,0.0,0.0,0.0,24.0,9.0,0.0,2.0,1.0,1.0,1440641.0]          |0.0  |\n",
      "|(11,[0,3,4,5,7,10],[587.0,1.0,45.0,6.0,1.0,1.5868481E7])        |0.0  |\n",
      "|[726.0,1.0,0.0,0.0,24.0,6.0,0.0,2.0,1.0,1.0,5472403.0]          |0.0  |\n",
      "+----------------------------------------------------------------+-----+\n",
      "only showing top 20 rows\n"
     ]
    },
    {
     "name": "stderr",
     "output_type": "stream",
     "text": [
      "                                                                                \r"
     ]
    }
   ],
   "source": [
    "churn_trans.show(truncate=False)"
   ]
  },
  {
   "cell_type": "code",
   "execution_count": 12,
   "id": "6292875f",
   "metadata": {},
   "outputs": [],
   "source": [
    "churnTreino, churnTeste = churn_trans.randomSplit([0.7, 0.3], seed=42)"
   ]
  },
  {
   "cell_type": "code",
   "execution_count": 13,
   "id": "70cf2127",
   "metadata": {},
   "outputs": [
    {
     "name": "stderr",
     "output_type": "stream",
     "text": [
      "[Stage 19:==========================================================(1 + 0) / 1]\r"
     ]
    },
    {
     "name": "stdout",
     "output_type": "stream",
     "text": [
      "7104 2896\n"
     ]
    },
    {
     "name": "stderr",
     "output_type": "stream",
     "text": [
      "                                                                                \r"
     ]
    }
   ],
   "source": [
    "print(churnTreino.count(), churnTeste.count())"
   ]
  },
  {
   "cell_type": "code",
   "execution_count": 14,
   "id": "9bc81a6c",
   "metadata": {},
   "outputs": [],
   "source": [
    "dt = DecisionTreeClassifier(labelCol=\"label\", featuresCol=\"features\", maxDepth=5, seed=42)"
   ]
  },
  {
   "cell_type": "code",
   "execution_count": 15,
   "id": "2fcfbafe",
   "metadata": {},
   "outputs": [
    {
     "name": "stderr",
     "output_type": "stream",
     "text": [
      "                                                                                \r"
     ]
    }
   ],
   "source": [
    "modelo = dt.fit(churnTreino)"
   ]
  },
  {
   "cell_type": "code",
   "execution_count": 16,
   "id": "e21a024e",
   "metadata": {},
   "outputs": [],
   "source": [
    "previsao = modelo.transform(churnTeste)"
   ]
  },
  {
   "cell_type": "code",
   "execution_count": 17,
   "id": "b37b5915",
   "metadata": {},
   "outputs": [
    {
     "name": "stderr",
     "output_type": "stream",
     "text": [
      "[Stage 39:>                                                         (0 + 1) / 1]\r"
     ]
    },
    {
     "name": "stdout",
     "output_type": "stream",
     "text": [
      "+--------------------------------------------------------+-----+--------------+----------------------------------------+----------+\n",
      "|features                                                |label|rawPrediction |probability                             |prediction|\n",
      "+--------------------------------------------------------+-----+--------------+----------------------------------------+----------+\n",
      "|(11,[0,1,3,4,7,10],[642.0,1.0,1.0,26.0,1.0,4747268.0])  |0.0  |[4482.0,505.0]|[0.8987367154601965,0.10126328453980349]|0.0       |\n",
      "|(11,[0,1,4,5,7,10],[350.0,1.0,60.0,3.0,1.0,1.1379615E7])|1.0  |[41.0,258.0]  |[0.13712374581939799,0.862876254180602] |1.0       |\n",
      "|(11,[0,1,4,5,7,10],[418.0,1.0,39.0,2.0,2.0,904171.0])   |0.0  |[4482.0,505.0]|[0.8987367154601965,0.10126328453980349]|0.0       |\n",
      "|(11,[0,1,4,5,7,10],[449.0,1.0,21.0,7.0,2.0,1.7574392E7])|0.0  |[4482.0,505.0]|[0.8987367154601965,0.10126328453980349]|0.0       |\n",
      "|(11,[0,1,4,5,7,10],[480.0,1.0,28.0,6.0,2.0,4813192.0])  |0.0  |[4482.0,505.0]|[0.8987367154601965,0.10126328453980349]|0.0       |\n",
      "|(11,[0,1,4,5,7,10],[483.0,1.0,30.0,9.0,2.0,1.3635697E7])|0.0  |[4482.0,505.0]|[0.8987367154601965,0.10126328453980349]|0.0       |\n",
      "|(11,[0,1,4,5,7,10],[496.0,1.0,36.0,7.0,2.0,1.0809828E7])|0.0  |[4482.0,505.0]|[0.8987367154601965,0.10126328453980349]|0.0       |\n",
      "|(11,[0,1,4,5,7,10],[507.0,1.0,35.0,1.0,2.0,9213154.0])  |0.0  |[4482.0,505.0]|[0.8987367154601965,0.10126328453980349]|0.0       |\n",
      "|(11,[0,1,4,5,7,10],[515.0,1.0,28.0,9.0,2.0,9414175.0])  |0.0  |[4482.0,505.0]|[0.8987367154601965,0.10126328453980349]|0.0       |\n",
      "|(11,[0,1,4,5,7,10],[523.0,1.0,73.0,7.0,2.0,1308839.0])  |1.0  |[41.0,258.0]  |[0.13712374581939799,0.862876254180602] |1.0       |\n",
      "|(11,[0,1,4,5,7,10],[530.0,1.0,29.0,5.0,2.0,1.2145121E7])|0.0  |[4482.0,505.0]|[0.8987367154601965,0.10126328453980349]|0.0       |\n",
      "|(11,[0,1,4,5,7,10],[543.0,1.0,36.0,3.0,2.0,2601959.0])  |0.0  |[4482.0,505.0]|[0.8987367154601965,0.10126328453980349]|0.0       |\n",
      "|(11,[0,1,4,5,7,10],[543.0,1.0,42.0,5.0,2.0,1.0190534E7])|0.0  |[4482.0,505.0]|[0.8987367154601965,0.10126328453980349]|0.0       |\n",
      "|(11,[0,1,4,5,7,10],[545.0,1.0,55.0,5.0,1.0,1003477.0])  |1.0  |[41.0,258.0]  |[0.13712374581939799,0.862876254180602] |1.0       |\n",
      "|(11,[0,1,4,5,7,10],[548.0,1.0,37.0,9.0,2.0,9802958.0])  |0.0  |[4482.0,505.0]|[0.8987367154601965,0.10126328453980349]|0.0       |\n",
      "|(11,[0,1,4,5,7,10],[549.0,1.0,34.0,4.0,2.0,1.3946357E7])|0.0  |[4482.0,505.0]|[0.8987367154601965,0.10126328453980349]|0.0       |\n",
      "|(11,[0,1,4,5,7,10],[553.0,1.0,27.0,3.0,2.0,1.5980016E7])|0.0  |[4482.0,505.0]|[0.8987367154601965,0.10126328453980349]|0.0       |\n",
      "|(11,[0,1,4,5,7,10],[563.0,1.0,34.0,6.0,2.0,3653693.0])  |0.0  |[4482.0,505.0]|[0.8987367154601965,0.10126328453980349]|0.0       |\n",
      "|(11,[0,1,4,5,7,10],[568.0,1.0,44.0,7.0,2.0,6237067.0])  |1.0  |[179.0,39.0]  |[0.8211009174311926,0.17889908256880735]|0.0       |\n",
      "|(11,[0,1,4,5,7,10],[569.0,1.0,44.0,4.0,2.0,1.3439478E7])|0.0  |[179.0,39.0]  |[0.8211009174311926,0.17889908256880735]|0.0       |\n",
      "+--------------------------------------------------------+-----+--------------+----------------------------------------+----------+\n",
      "only showing top 20 rows\n"
     ]
    },
    {
     "name": "stderr",
     "output_type": "stream",
     "text": [
      "                                                                                \r"
     ]
    }
   ],
   "source": [
    "previsao.show(truncate=False)"
   ]
  },
  {
   "cell_type": "code",
   "execution_count": 18,
   "id": "8427ab3d",
   "metadata": {},
   "outputs": [],
   "source": [
    "avaliar = BinaryClassificationEvaluator(labelCol=\"label\", rawPredictionCol=\"prediction\", metricName=\"areaUnderROC\")"
   ]
  },
  {
   "cell_type": "code",
   "execution_count": 19,
   "id": "478d1574",
   "metadata": {},
   "outputs": [
    {
     "name": "stderr",
     "output_type": "stream",
     "text": [
      "                                                                                \r"
     ]
    },
    {
     "name": "stdout",
     "output_type": "stream",
     "text": [
      "Area Under ROC: 0.6651656084399468\n"
     ]
    }
   ],
   "source": [
    "areaUnderROC = avaliar.evaluate(previsao)\n",
    "print(f\"Area Under ROC: {areaUnderROC}\")"
   ]
  },
  {
   "cell_type": "code",
   "execution_count": null,
   "id": "a8904b0a",
   "metadata": {},
   "outputs": [],
   "source": []
  }
 ],
 "metadata": {
  "kernelspec": {
   "display_name": "spark",
   "language": "python",
   "name": "python3"
  },
  "language_info": {
   "codemirror_mode": {
    "name": "ipython",
    "version": 3
   },
   "file_extension": ".py",
   "mimetype": "text/x-python",
   "name": "python",
   "nbconvert_exporter": "python",
   "pygments_lexer": "ipython3",
   "version": "3.12.3"
  }
 },
 "nbformat": 4,
 "nbformat_minor": 5
}
