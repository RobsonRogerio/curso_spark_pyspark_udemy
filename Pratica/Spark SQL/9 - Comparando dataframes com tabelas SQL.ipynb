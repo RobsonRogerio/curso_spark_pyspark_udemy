{
 "cells": [
  {
   "cell_type": "code",
   "execution_count": 0,
   "metadata": {
    "application/vnd.databricks.v1+cell": {
     "cellMetadata": {
      "byteLimit": 2048000,
      "rowLimit": 10000
     },
     "inputWidgets": {},
     "nuid": "e9735e52-dcab-4839-a4b8-2aacbe276671",
     "showTitle": false,
     "tableResultSettingsMap": {},
     "title": ""
    }
   },
   "outputs": [
    {
     "output_type": "stream",
     "name": "stdout",
     "output_type": "stream",
     "text": [
      "+---+-------------------+------+-------------+------+----------+\n| id|               nome|status|       cidade|vendas|      data|\n+---+-------------------+------+-------------+------+----------+\n|  1|   Carminda Pestana| Ativo|  Santa Maria|    23|2020-08-11|\n|  2|    Deolinda Vilela| Ativo|Novo Hamburgo|    34|2020-03-05|\n|  3|   Emídio Dornelles| Ativo| Porto Alegre|    34|2020-02-05|\n|  4|Felisbela Dornelles| Ativo| Porto Alegre|    36|2020-02-05|\n|  5|     Graça Ornellas| Ativo| Porto Alegre|    12|2020-02-05|\n|  6|   Matilde Rebouças| Ativo| Porto Alegre|    22|2019-01-05|\n|  7|    Noêmia   Orriça| Ativo|  Santa Maria|    45|2019-10-05|\n|  8|      Roque Vásquez| Ativo| Porto Alegre|    65|2020-03-05|\n|  9|      Uriel Queiroz| Ativo| Porto Alegre|    54|2018-05-05|\n| 10|   Viviana Sequeira| Ativo| Porto Alegre|     0|2020-09-05|\n+---+-------------------+------+-------------+------+----------+\n\n"
     ]
    }
   ],
   "source": [
    "from pyspark.sql import functions as Func\n",
    "from pyspark.sql.functions import *\n",
    "spark.sql(\"select * from desp.despachantes\").show()"
   ]
  },
  {
   "cell_type": "code",
   "execution_count": 0,
   "metadata": {
    "application/vnd.databricks.v1+cell": {
     "cellMetadata": {
      "byteLimit": 2048000,
      "rowLimit": 10000
     },
     "inputWidgets": {},
     "nuid": "118ae001-ef67-46c7-9820-13ae8812863b",
     "showTitle": false,
     "tableResultSettingsMap": {},
     "title": ""
    }
   },
   "outputs": [
    {
     "output_type": "stream",
     "name": "stdout",
     "output_type": "stream",
     "text": [
      "+---+-------------------+------+-------------+------+----------+\n| id|               nome|status|       cidade|vendas|      data|\n+---+-------------------+------+-------------+------+----------+\n|  1|   Carminda Pestana| Ativo|  Santa Maria|    23|2020-08-11|\n|  2|    Deolinda Vilela| Ativo|Novo Hamburgo|    34|2020-03-05|\n|  3|   Emídio Dornelles| Ativo| Porto Alegre|    34|2020-02-05|\n|  4|Felisbela Dornelles| Ativo| Porto Alegre|    36|2020-02-05|\n|  5|     Graça Ornellas| Ativo| Porto Alegre|    12|2020-02-05|\n|  6|   Matilde Rebouças| Ativo| Porto Alegre|    22|2019-01-05|\n|  7|    Noêmia   Orriça| Ativo|  Santa Maria|    45|2019-10-05|\n|  8|      Roque Vásquez| Ativo| Porto Alegre|    65|2020-03-05|\n|  9|      Uriel Queiroz| Ativo| Porto Alegre|    54|2018-05-05|\n| 10|   Viviana Sequeira| Ativo| Porto Alegre|     0|2020-09-05|\n+---+-------------------+------+-------------+------+----------+\n\n"
     ]
    }
   ],
   "source": [
    "despachantes = spark.sql(\"select * from desp.despachantes\")\n",
    "despachantes.show()"
   ]
  },
  {
   "cell_type": "code",
   "execution_count": 0,
   "metadata": {
    "application/vnd.databricks.v1+cell": {
     "cellMetadata": {
      "byteLimit": 2048000,
      "rowLimit": 10000
     },
     "inputWidgets": {},
     "nuid": "dab79d0f-b26c-4b0d-8ae6-7bd7eafd21d2",
     "showTitle": false,
     "tableResultSettingsMap": {},
     "title": ""
    }
   },
   "outputs": [
    {
     "output_type": "stream",
     "name": "stdout",
     "output_type": "stream",
     "text": [
      "+-------------------+------+\n|               nome|vendas|\n+-------------------+------+\n|   Carminda Pestana|    23|\n|    Deolinda Vilela|    34|\n|   Emídio Dornelles|    34|\n|Felisbela Dornelles|    36|\n|     Graça Ornellas|    12|\n|   Matilde Rebouças|    22|\n|    Noêmia   Orriça|    45|\n|      Roque Vásquez|    65|\n|      Uriel Queiroz|    54|\n|   Viviana Sequeira|     0|\n+-------------------+------+\n\n"
     ]
    }
   ],
   "source": [
    "spark.sql(\"select nome, vendas from desp.despachantes\").show()"
   ]
  },
  {
   "cell_type": "code",
   "execution_count": 0,
   "metadata": {
    "application/vnd.databricks.v1+cell": {
     "cellMetadata": {
      "byteLimit": 2048000,
      "rowLimit": 10000
     },
     "inputWidgets": {},
     "nuid": "b30cc479-8427-4c12-8147-211b046e387a",
     "showTitle": false,
     "tableResultSettingsMap": {},
     "title": ""
    }
   },
   "outputs": [
    {
     "output_type": "stream",
     "name": "stdout",
     "output_type": "stream",
     "text": [
      "+-------------------+------+\n|               nome|vendas|\n+-------------------+------+\n|   Carminda Pestana|    23|\n|    Deolinda Vilela|    34|\n|   Emídio Dornelles|    34|\n|Felisbela Dornelles|    36|\n|     Graça Ornellas|    12|\n|   Matilde Rebouças|    22|\n|    Noêmia   Orriça|    45|\n|      Roque Vásquez|    65|\n|      Uriel Queiroz|    54|\n|   Viviana Sequeira|     0|\n+-------------------+------+\n\n"
     ]
    }
   ],
   "source": [
    "despachantes.select(\"nome\", \"vendas\").show()"
   ]
  },
  {
   "cell_type": "code",
   "execution_count": 0,
   "metadata": {
    "application/vnd.databricks.v1+cell": {
     "cellMetadata": {
      "byteLimit": 2048000,
      "rowLimit": 10000
     },
     "inputWidgets": {},
     "nuid": "7476214e-258f-4ef3-8611-2ea3e7c3b413",
     "showTitle": false,
     "tableResultSettingsMap": {},
     "title": ""
    }
   },
   "outputs": [
    {
     "output_type": "stream",
     "name": "stdout",
     "output_type": "stream",
     "text": [
      "+---+-------------------+------+-------------+------+----------+\n| id|               nome|status|       cidade|vendas|      data|\n+---+-------------------+------+-------------+------+----------+\n|  1|   Carminda Pestana| Ativo|  Santa Maria|    23|2020-08-11|\n|  2|    Deolinda Vilela| Ativo|Novo Hamburgo|    34|2020-03-05|\n|  3|   Emídio Dornelles| Ativo| Porto Alegre|    34|2020-02-05|\n|  4|Felisbela Dornelles| Ativo| Porto Alegre|    36|2020-02-05|\n|  6|   Matilde Rebouças| Ativo| Porto Alegre|    22|2019-01-05|\n|  7|    Noêmia   Orriça| Ativo|  Santa Maria|    45|2019-10-05|\n|  8|      Roque Vásquez| Ativo| Porto Alegre|    65|2020-03-05|\n|  9|      Uriel Queiroz| Ativo| Porto Alegre|    54|2018-05-05|\n+---+-------------------+------+-------------+------+----------+\n\n"
     ]
    }
   ],
   "source": [
    "spark.sql(\"select * from desp.despachantes where vendas > 20\").show()\n"
   ]
  },
  {
   "cell_type": "code",
   "execution_count": 0,
   "metadata": {
    "application/vnd.databricks.v1+cell": {
     "cellMetadata": {
      "byteLimit": 2048000,
      "rowLimit": 10000
     },
     "inputWidgets": {},
     "nuid": "1411cccf-d311-4800-a26c-fe7c7490747d",
     "showTitle": false,
     "tableResultSettingsMap": {},
     "title": ""
    }
   },
   "outputs": [
    {
     "output_type": "stream",
     "name": "stdout",
     "output_type": "stream",
     "text": [
      "+-------------------+------+\n|               nome|vendas|\n+-------------------+------+\n|   Carminda Pestana|    23|\n|    Deolinda Vilela|    34|\n|   Emídio Dornelles|    34|\n|Felisbela Dornelles|    36|\n|   Matilde Rebouças|    22|\n|    Noêmia   Orriça|    45|\n|      Roque Vásquez|    65|\n|      Uriel Queiroz|    54|\n+-------------------+------+\n\n"
     ]
    }
   ],
   "source": [
    "despachantes.select(\"nome\", \"vendas\").where(despachantes[\"vendas\"] > 20).show()"
   ]
  },
  {
   "cell_type": "code",
   "execution_count": 0,
   "metadata": {
    "application/vnd.databricks.v1+cell": {
     "cellMetadata": {
      "byteLimit": 2048000,
      "rowLimit": 10000
     },
     "inputWidgets": {},
     "nuid": "9f600384-d4ba-4ce3-9ecf-3aea69c89c9a",
     "showTitle": false,
     "tableResultSettingsMap": {},
     "title": ""
    }
   },
   "outputs": [
    {
     "output_type": "stream",
     "name": "stdout",
     "output_type": "stream",
     "text": [
      "+-------------+-----------+\n|       cidade|sum(vendas)|\n+-------------+-----------+\n| Porto Alegre|        223|\n|  Santa Maria|         68|\n|Novo Hamburgo|         34|\n+-------------+-----------+\n\n+-------------+-----------+\n|       cidade|sum(vendas)|\n+-------------+-----------+\n| Porto Alegre|        223|\n|  Santa Maria|         68|\n|Novo Hamburgo|         34|\n+-------------+-----------+\n\n"
     ]
    }
   ],
   "source": [
    "spark.sql(\"select cidade, sum(vendas) from desp.despachantes group by cidade order by 2 desc\").show()\n",
    "despachantes.groupBy(\"cidade\").sum(\"vendas\").orderBy(\"sum(vendas)\", ascending=False).show()"
   ]
  }
 ],
 "metadata": {
  "application/vnd.databricks.v1+notebook": {
   "computePreferences": null,
   "dashboards": [],
   "environmentMetadata": {
    "base_environment": "",
    "environment_version": "2"
   },
   "inputWidgetPreferences": null,
   "language": "python",
   "notebookMetadata": {
    "pythonIndentUnit": 4
   },
   "notebookName": "9 - Comparando dataframes com tabelas SQL",
   "widgets": {}
  },
  "language_info": {
   "name": "python"
  }
 },
 "nbformat": 4,
 "nbformat_minor": 0
}