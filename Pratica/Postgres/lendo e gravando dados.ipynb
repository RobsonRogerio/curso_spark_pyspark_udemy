{
 "cells": [
  {
   "cell_type": "code",
   "execution_count": 1,
   "id": "9b3cb9b3",
   "metadata": {},
   "outputs": [],
   "source": [
    "from pyspark.sql import SparkSession"
   ]
  },
  {
   "cell_type": "code",
   "execution_count": 2,
   "id": "330a7eee",
   "metadata": {},
   "outputs": [
    {
     "name": "stderr",
     "output_type": "stream",
     "text": [
      "WARNING: Using incubator modules: jdk.incubator.vector\n",
      "Using Spark's default log4j profile: org/apache/spark/log4j2-defaults.properties\n",
      "25/08/04 13:53:43 WARN Utils: Your hostname, LAPTOP-CO0U45G1, resolves to a loopback address: 127.0.1.1; using 172.20.235.103 instead (on interface eth0)\n",
      "25/08/04 13:53:43 WARN Utils: Set SPARK_LOCAL_IP if you need to bind to another address\n",
      "25/08/04 13:53:48 WARN NativeCodeLoader: Unable to load native-hadoop library for your platform... using builtin-java classes where applicable\n",
      "Using Spark's default log4j profile: org/apache/spark/log4j2-defaults.properties\n",
      "Setting default log level to \"WARN\".\n",
      "To adjust logging level use sc.setLogLevel(newLevel). For SparkR, use setLogLevel(newLevel).\n",
      "25/08/04 13:54:01 WARN Utils: Service 'SparkUI' could not bind on port 4040. Attempting port 4041.\n"
     ]
    }
   ],
   "source": [
    "spark = SparkSession.builder \\\n",
    "    .appName(\"PostgreSQL Example\") \\\n",
    "    .config(\"spark.jars\", \"/home/robson/drivers/postgresql-42.7.3.jar\") \\\n",
    "    .getOrCreate()\n"
   ]
  },
  {
   "cell_type": "code",
   "execution_count": 4,
   "id": "027139d3",
   "metadata": {},
   "outputs": [],
   "source": [
    "resumo = spark.read \\\n",
    "    .format(\"jdbc\") \\\n",
    "    .option(\"url\", \"jdbc:postgresql://localhost:5432/vendas\") \\\n",
    "    .option(\"dbtable\", \"vendas\") \\\n",
    "    .option(\"user\", \"postgres\") \\\n",
    "    .option(\"password\", \"123456\") \\\n",
    "    .option(\"driver\", \"org.postgresql.Driver\") \\\n",
    "    .load()"
   ]
  },
  {
   "cell_type": "code",
   "execution_count": 5,
   "id": "b25c60a4",
   "metadata": {},
   "outputs": [
    {
     "name": "stderr",
     "output_type": "stream",
     "text": [
      "                                                                                \r"
     ]
    },
    {
     "name": "stdout",
     "output_type": "stream",
     "text": [
      "+-------+----------+---------+----------+--------+\n",
      "|idvenda|idvendedor|idcliente|      data|   total|\n",
      "+-------+----------+---------+----------+--------+\n",
      "|      1|         1|        1|2016-01-01| 8053.60|\n",
      "|      2|         6|      185|2016-01-01|  150.40|\n",
      "|      3|         7|       31|2016-01-02| 6087.00|\n",
      "|      4|         5|        1|2016-01-02|13828.60|\n",
      "|      5|         8|      120|2016-01-03|26096.66|\n",
      "|      6|         9|       74|2016-01-04|18402.00|\n",
      "|      7|         9|      191|2016-01-06| 7524.20|\n",
      "|      8|         6|        2|2016-01-06|12036.60|\n",
      "|      9|         7|       91|2016-01-06| 2804.75|\n",
      "|     10|         2|      202|2016-01-06| 8852.00|\n",
      "|     11|         1|        3|2016-01-08|16545.25|\n",
      "|     12|         7|       32|2016-01-09|11411.88|\n",
      "|     13|         4|      136|2016-01-10|15829.70|\n",
      "|     14|         3|      249|2016-01-12| 6154.36|\n",
      "|     15|         4|        5|2016-01-12| 3255.08|\n",
      "|     16|         7|      192|2016-01-13| 2901.25|\n",
      "|     17|         2|       79|2016-01-13|15829.70|\n",
      "|     18|        10|      136|2016-01-14|16996.36|\n",
      "|     19|        10|      191|2016-01-14|  155.00|\n",
      "|     20|         9|      218|2016-01-15|  131.75|\n",
      "+-------+----------+---------+----------+--------+\n",
      "only showing top 20 rows\n"
     ]
    }
   ],
   "source": [
    "resumo.show()"
   ]
  },
  {
   "cell_type": "code",
   "execution_count": 6,
   "id": "b2f3f8ae",
   "metadata": {},
   "outputs": [],
   "source": [
    "vendadata = resumo.select(\"data\", \"total\")"
   ]
  },
  {
   "cell_type": "code",
   "execution_count": 7,
   "id": "65486502",
   "metadata": {},
   "outputs": [
    {
     "name": "stderr",
     "output_type": "stream",
     "text": [
      "[Stage 1:>                                                          (0 + 1) / 1]\r"
     ]
    },
    {
     "name": "stdout",
     "output_type": "stream",
     "text": [
      "+----------+--------+\n",
      "|      data|   total|\n",
      "+----------+--------+\n",
      "|2016-01-01| 8053.60|\n",
      "|2016-01-01|  150.40|\n",
      "|2016-01-02| 6087.00|\n",
      "|2016-01-02|13828.60|\n",
      "|2016-01-03|26096.66|\n",
      "|2016-01-04|18402.00|\n",
      "|2016-01-06| 7524.20|\n",
      "|2016-01-06|12036.60|\n",
      "|2016-01-06| 2804.75|\n",
      "|2016-01-06| 8852.00|\n",
      "|2016-01-08|16545.25|\n",
      "|2016-01-09|11411.88|\n",
      "|2016-01-10|15829.70|\n",
      "|2016-01-12| 6154.36|\n",
      "|2016-01-12| 3255.08|\n",
      "|2016-01-13| 2901.25|\n",
      "|2016-01-13|15829.70|\n",
      "|2016-01-14|16996.36|\n",
      "|2016-01-14|  155.00|\n",
      "|2016-01-15|  131.75|\n",
      "+----------+--------+\n",
      "only showing top 20 rows\n"
     ]
    },
    {
     "name": "stderr",
     "output_type": "stream",
     "text": [
      "                                                                                \r"
     ]
    }
   ],
   "source": [
    "vendadata.show()"
   ]
  },
  {
   "cell_type": "code",
   "execution_count": 8,
   "id": "742881dc",
   "metadata": {},
   "outputs": [
    {
     "name": "stderr",
     "output_type": "stream",
     "text": [
      "                                                                                \r"
     ]
    }
   ],
   "source": [
    "vendadata.write \\\n",
    "    .format(\"jdbc\") \\\n",
    "    .option(\"url\", \"jdbc:postgresql://localhost:5432/vendas\") \\\n",
    "    .option(\"dbtable\", \"vendadata\") \\\n",
    "    .option(\"user\", \"postgres\") \\\n",
    "    .option(\"password\", \"123456\") \\\n",
    "    .option(\"driver\", \"org.postgresql.Driver\") \\\n",
    "    .save()"
   ]
  }
 ],
 "metadata": {
  "kernelspec": {
   "display_name": "spark",
   "language": "python",
   "name": "python3"
  },
  "language_info": {
   "codemirror_mode": {
    "name": "ipython",
    "version": 3
   },
   "file_extension": ".py",
   "mimetype": "text/x-python",
   "name": "python",
   "nbconvert_exporter": "python",
   "pygments_lexer": "ipython3",
   "version": "3.12.3"
  }
 },
 "nbformat": 4,
 "nbformat_minor": 5
}
